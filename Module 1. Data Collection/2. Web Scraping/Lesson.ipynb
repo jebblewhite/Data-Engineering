{
 "cells": [
  {
   "cell_type": "markdown",
   "source": [
    "# Web Scraping\n",
    "\n",
    "## Learning Outcomes:\n",
    "- Learn the structure of HTML\n",
    "- Learn how to use XPath to navigate HTML (via lxml)\n",
    "- Use Selenium to scrape data from websites\n",
    "\n",
    "One of the most common ways to obtain data is through the use of **web scraping**. Web scraping, as the name suggests, is about pulling information from websites in a programmatic fashion... (because copy and pasting would be way too much effort)"
   ],
   "metadata": {}
  },
  {
   "cell_type": "markdown",
   "source": [
    "## The challenge\n",
    "\n",
    "Let's say we wanted to build a model which would predict house prices given some features - for example, location, number of bedrooms, number of bathrooms. We need some way of obtaining this data - both the response and the target variables.\n",
    "\n",
    "To introduce you to the concept of web scraping, let's try and extract data for 100 houses:\n",
    "- **Sale Price**: Our response variable\n",
    "- Number of bedrooms\n",
    "- Square footage\n",
    "- Description\n",
    "- Address\n",
    "    \n",
    "[This URL shows houses listed for sale in London](https://www.zoopla.co.uk/new-homes/property/london/?q=London&results_sort=newest_listings&search_source=new-homes&page_size=25&pn=1&view_type=list). Let's take a look at where the information that we want to extract is on the webpage.\n",
    "\n",
    "Before we look at solving this challenge, let's take a look at what websites and HTML actually are."
   ],
   "metadata": {}
  },
  {
   "cell_type": "markdown",
   "source": [
    "## Websites\n",
    "\n",
    "### What format does information on a website exist in?\n",
    "\n",
    "We know that websites don't just print data in a nice CSV or JSON format. \n",
    "They have content to display stuff to you in a way that makes sense, like buttons, on the page. \n",
    "This content is defined in a HTML file.\n",
    "\n",
    "They also have styling\n",
    "\n",
    "#### What is HTML?\n",
    "\n",
    "HTML stands for HyperText Markup Language. It consists of a tree structure of different types of web elements, like buttons, page divisions, images and more. This means that it is used to define what **content** is rendered on any webpage that you visit.\n",
    "\n",
    "HTML markdown contains elements/tags that may contain other elements/tags.\n",
    "\n",
    "\n",
    "[Let's play around with some HTML](https://code.sololearn.com/WoNr8gIeKYDr/)\n",
    "\n",
    "### How can we get the website HTML, which contains data that we want?\n",
    "\n",
    "When you search for a URL in a browser, here's what happens:\n",
    "- your browser makes a **GET request** to the computer (server) that serves requests from that URL endpoint\n",
    "- this computer knows what web content to send you back, so it sends it in a response to the request. This stuff includes the HTML of the page that you want to view.\n",
    "- Your browser gets the HTML, and knows how to present that type of data to you (it renders the webpage)\n",
    "\n",
    "The point here being that you can get the HTML, which defines the content for any site, by making a GET request to that website.\n",
    "\n",
    "Let's try that!\n",
    "\n",
    "We can use the requests library to get the HTML from a website"
   ],
   "metadata": {}
  },
  {
   "cell_type": "code",
   "execution_count": 1,
   "source": [
    "import requests # import the requests library\n",
    "r = requests.get('http://pythonscraping.com/pages/page3.html') # make a HTTP GET request to this website\n",
    "html_string = r.text # the text attribute of this response is the HTML as a string\n",
    "print(r.text)"
   ],
   "outputs": [
    {
     "output_type": "stream",
     "name": "stdout",
     "text": [
      "<html>\n",
      "<head>\n",
      "<style>\n",
      "img{\n",
      "\twidth:75px;\n",
      "}\n",
      "table{\n",
      "\twidth:50%;\n",
      "}\n",
      "td{\n",
      "\tmargin:10px;\n",
      "\tpadding:10px;\n",
      "}\n",
      ".wrapper{\n",
      "\twidth:800px;\n",
      "}\n",
      ".excitingNote{\n",
      "\tfont-style:italic;\n",
      "\tfont-weight:bold;\n",
      "}\n",
      "</style>\n",
      "</head>\n",
      "<body>\n",
      "<div id=\"wrapper\">\n",
      "<img src=\"../img/gifts/logo.jpg\" style=\"float:left;\">\n",
      "<h1>Totally Normal Gifts</h1>\n",
      "<div id=\"content\">Here is a collection of totally normal, totally reasonable gifts that your friends are sure to love! Our collection is\n",
      "hand-curated by well-paid, free-range Tibetan monks.<p>\n",
      "We haven't figured out how to make online shopping carts yet, but you can send us a check to:<br>\n",
      "123 Main St.<br>\n",
      "Abuja, Nigeria\n",
      "</br>We will then send your totally amazing gift, pronto! Please include an extra $5.00 for gift wrapping.</div>\n",
      "<table id=\"giftList\">\n",
      "<tr><th>\n",
      "Item Title\n",
      "</th><th>\n",
      "Description\n",
      "</th><th>\n",
      "Cost\n",
      "</th><th>\n",
      "Image\n",
      "</th></tr>\n",
      "\n",
      "<tr id=\"gift1\" class=\"gift\"><td>\n",
      "Vegetable Basket\n",
      "</td><td>\n",
      "This vegetable basket is the perfect gift for your health conscious (or overweight) friends!\n",
      "<span class=\"excitingNote\">Now with super-colorful bell peppers!</span>\n",
      "</td><td>\n",
      "$15.00\n",
      "</td><td>\n",
      "<img src=\"../img/gifts/img1.jpg\">\n",
      "</td></tr>\n",
      "\n",
      "<tr id=\"gift2\" class=\"gift\"><td>\n",
      "Russian Nesting Dolls\n",
      "</td><td>\n",
      "Hand-painted by trained monkeys, these exquisite dolls are priceless! And by \"priceless,\" we mean \"extremely expensive\"! <span class=\"excitingNote\">8 entire dolls per set! Octuple the presents!</span>\n",
      "</td><td>\n",
      "$10,000.52\n",
      "</td><td>\n",
      "<img src=\"../img/gifts/img2.jpg\">\n",
      "</td></tr>\n",
      "\n",
      "<tr id=\"gift3\" class=\"gift\"><td>\n",
      "Fish Painting\n",
      "</td><td>\n",
      "If something seems fishy about this painting, it's because it's a fish! <span class=\"excitingNote\">Also hand-painted by trained monkeys!</span>\n",
      "</td><td>\n",
      "$10,005.00\n",
      "</td><td>\n",
      "<img src=\"../img/gifts/img3.jpg\">\n",
      "</td></tr>\n",
      "\n",
      "<tr id=\"gift4\" class=\"gift\"><td>\n",
      "Dead Parrot\n",
      "</td><td>\n",
      "This is an ex-parrot! <span class=\"excitingNote\">Or maybe he's only resting?</span>\n",
      "</td><td>\n",
      "$0.50\n",
      "</td><td>\n",
      "<img src=\"../img/gifts/img4.jpg\">\n",
      "</td></tr>\n",
      "\n",
      "<tr id=\"gift5\" class=\"gift\"><td>\n",
      "Mystery Box\n",
      "</td><td>\n",
      "If you love suprises, this mystery box is for you! Do not place on light-colored surfaces. May cause oil staining. <span class=\"excitingNote\">Keep your friends guessing!</span>\n",
      "</td><td>\n",
      "$1.50\n",
      "</td><td>\n",
      "<img src=\"../img/gifts/img6.jpg\">\n",
      "</td></tr>\n",
      "</table>\n",
      "</p>\n",
      "<div id=\"footer\">\n",
      "&copy; Totally Normal Gifts, Inc. <br>\n",
      "+234 (617) 863-0736\n",
      "</div>\n",
      "\n",
      "</div>\n",
      "</body>\n",
      "</html>\n",
      "\n"
     ]
    }
   ],
   "metadata": {
    "tags": [
     "outputPrepend"
    ]
   }
  },
  {
   "cell_type": "markdown",
   "source": [
    "# BeautifulSoup"
   ],
   "metadata": {}
  },
  {
   "cell_type": "markdown",
   "source": [
    "What we saw above only gives us the HTML, but we want to be able to extract the data from it. After requesting the data from the webpage, we obtain a string of HTML, but looking for some specific data is a bit of a pain. We can use the **BeautifulSoup** library to extract the data from the HTML looking for specific tags and their attributes."
   ],
   "metadata": {}
  },
  {
   "cell_type": "code",
   "execution_count": 3,
   "source": [
    "import requests\n",
    "from bs4 import BeautifulSoup\n",
    "page = requests.get('http://pythonscraping.com/pages/page3.html')\n",
    "html = page.text # Get the content of the webpage\n",
    "soup = BeautifulSoup(html, 'html.parser') # Convert that into a BeautifulSoup object that contains methods to make the tag searcg easier\n",
    "print(soup.prettify())"
   ],
   "outputs": [
    {
     "output_type": "stream",
     "name": "stdout",
     "text": [
      "<html>\n",
      " <head>\n",
      "  <style>\n",
      "   img{\n",
      "\twidth:75px;\n",
      "}\n",
      "table{\n",
      "\twidth:50%;\n",
      "}\n",
      "td{\n",
      "\tmargin:10px;\n",
      "\tpadding:10px;\n",
      "}\n",
      ".wrapper{\n",
      "\twidth:800px;\n",
      "}\n",
      ".excitingNote{\n",
      "\tfont-style:italic;\n",
      "\tfont-weight:bold;\n",
      "}\n",
      "  </style>\n",
      " </head>\n",
      " <body>\n",
      "  <div id=\"wrapper\">\n",
      "   <img src=\"../img/gifts/logo.jpg\" style=\"float:left;\"/>\n",
      "   <h1>\n",
      "    Totally Normal Gifts\n",
      "   </h1>\n",
      "   <div id=\"content\">\n",
      "    Here is a collection of totally normal, totally reasonable gifts that your friends are sure to love! Our collection is\n",
      "hand-curated by well-paid, free-range Tibetan monks.\n",
      "    <p>\n",
      "     We haven't figured out how to make online shopping carts yet, but you can send us a check to:\n",
      "     <br/>\n",
      "     123 Main St.\n",
      "     <br/>\n",
      "     Abuja, Nigeria\n",
      "We will then send your totally amazing gift, pronto! Please include an extra $5.00 for gift wrapping.\n",
      "    </p>\n",
      "   </div>\n",
      "   <table id=\"giftList\">\n",
      "    <tr>\n",
      "     <th>\n",
      "      Item Title\n",
      "     </th>\n",
      "     <th>\n",
      "      Description\n",
      "     </th>\n",
      "     <th>\n",
      "      Cost\n",
      "     </th>\n",
      "     <th>\n",
      "      Image\n",
      "     </th>\n",
      "    </tr>\n",
      "    <tr class=\"gift\" id=\"gift1\">\n",
      "     <td>\n",
      "      Vegetable Basket\n",
      "     </td>\n",
      "     <td>\n",
      "      This vegetable basket is the perfect gift for your health conscious (or overweight) friends!\n",
      "      <span class=\"excitingNote\">\n",
      "       Now with super-colorful bell peppers!\n",
      "      </span>\n",
      "     </td>\n",
      "     <td>\n",
      "      $15.00\n",
      "     </td>\n",
      "     <td>\n",
      "      <img src=\"../img/gifts/img1.jpg\"/>\n",
      "     </td>\n",
      "    </tr>\n",
      "    <tr class=\"gift\" id=\"gift2\">\n",
      "     <td>\n",
      "      Russian Nesting Dolls\n",
      "     </td>\n",
      "     <td>\n",
      "      Hand-painted by trained monkeys, these exquisite dolls are priceless! And by \"priceless,\" we mean \"extremely expensive\"!\n",
      "      <span class=\"excitingNote\">\n",
      "       8 entire dolls per set! Octuple the presents!\n",
      "      </span>\n",
      "     </td>\n",
      "     <td>\n",
      "      $10,000.52\n",
      "     </td>\n",
      "     <td>\n",
      "      <img src=\"../img/gifts/img2.jpg\"/>\n",
      "     </td>\n",
      "    </tr>\n",
      "    <tr class=\"gift\" id=\"gift3\">\n",
      "     <td>\n",
      "      Fish Painting\n",
      "     </td>\n",
      "     <td>\n",
      "      If something seems fishy about this painting, it's because it's a fish!\n",
      "      <span class=\"excitingNote\">\n",
      "       Also hand-painted by trained monkeys!\n",
      "      </span>\n",
      "     </td>\n",
      "     <td>\n",
      "      $10,005.00\n",
      "     </td>\n",
      "     <td>\n",
      "      <img src=\"../img/gifts/img3.jpg\"/>\n",
      "     </td>\n",
      "    </tr>\n",
      "    <tr class=\"gift\" id=\"gift4\">\n",
      "     <td>\n",
      "      Dead Parrot\n",
      "     </td>\n",
      "     <td>\n",
      "      This is an ex-parrot!\n",
      "      <span class=\"excitingNote\">\n",
      "       Or maybe he's only resting?\n",
      "      </span>\n",
      "     </td>\n",
      "     <td>\n",
      "      $0.50\n",
      "     </td>\n",
      "     <td>\n",
      "      <img src=\"../img/gifts/img4.jpg\"/>\n",
      "     </td>\n",
      "    </tr>\n",
      "    <tr class=\"gift\" id=\"gift5\">\n",
      "     <td>\n",
      "      Mystery Box\n",
      "     </td>\n",
      "     <td>\n",
      "      If you love suprises, this mystery box is for you! Do not place on light-colored surfaces. May cause oil staining.\n",
      "      <span class=\"excitingNote\">\n",
      "       Keep your friends guessing!\n",
      "      </span>\n",
      "     </td>\n",
      "     <td>\n",
      "      $1.50\n",
      "     </td>\n",
      "     <td>\n",
      "      <img src=\"../img/gifts/img6.jpg\"/>\n",
      "     </td>\n",
      "    </tr>\n",
      "   </table>\n",
      "   <div id=\"footer\">\n",
      "    © Totally Normal Gifts, Inc.\n",
      "    <br/>\n",
      "    +234 (617) 863-0736\n",
      "   </div>\n",
      "  </div>\n",
      " </body>\n",
      "</html>\n",
      "\n"
     ]
    }
   ],
   "metadata": {}
  },
  {
   "cell_type": "markdown",
   "source": [
    "Let's see an example using the following URL `'http://pythonscraping.com/pages/page3.html'`\n",
    "\n",
    "In that webpage you will find a small list with a set of items. Let's say that you want to extract the data from the Fish Painting.\n",
    "\n",
    "<p align=\"center\">\n",
    "  <img src='images/BS4_1.png' width=500>\n",
    "</p>\n"
   ],
   "metadata": {}
  },
  {
   "cell_type": "markdown",
   "source": [
    "In your browser, you can see that the HTML for the page is in the `<body>` tag. Let's see how we can extract the data from this HTML. In the page, right-click on the `<body>` tag and select **Inspect Element**. There, you will see the HTML for the page, and you can see that the Fish Painting is in a `<tr>` tag.\n",
    "\n",
    "<p align=\"center\">\n",
    "  <img src='images/BS4_2.png' width=500>\n",
    "</p>"
   ],
   "metadata": {}
  },
  {
   "cell_type": "markdown",
   "source": [
    "You can find that tag using the method `find` that accepts the tag name, and the attributes of said tag"
   ],
   "metadata": {}
  },
  {
   "cell_type": "code",
   "execution_count": null,
   "source": [
    "fish = soup.find(name='tr', attrs={'id': 'gift3', 'class': 'gift'}) # If it doesn't find anything it returns None\n",
    "\n",
    "print(fish)"
   ],
   "outputs": [],
   "metadata": {}
  },
  {
   "cell_type": "markdown",
   "source": [
    "Inside the `tr` tag, you will find different `<td>` tags. You can find all the `<td>` tags using the method `find_all` that accepts the tag name and the attributes of said tag."
   ],
   "metadata": {}
  },
  {
   "cell_type": "code",
   "execution_count": null,
   "source": [
    "fish_row = fish.find_all('td') # This returns a list where each item corresponds to each td tag "
   ],
   "outputs": [],
   "metadata": {}
  },
  {
   "cell_type": "markdown",
   "source": [
    "Now, you obtained a list where each element correponds to the data for each column. Thus, you can index the list to get the data you want."
   ],
   "metadata": {}
  },
  {
   "cell_type": "code",
   "execution_count": null,
   "source": [
    "title = fish_row[0].text\n",
    "description = fish_row[1].text\n",
    "price = fish_row[2].text\n",
    "\n",
    "print(title)\n",
    "print(description)\n",
    "print(price)"
   ],
   "outputs": [],
   "metadata": {}
  },
  {
   "cell_type": "markdown",
   "source": [
    "You can keep looking for more data in the tree. For example, you can look for the parrot row taking into account that it is the sibling of the fish row."
   ],
   "metadata": {}
  },
  {
   "cell_type": "code",
   "execution_count": null,
   "source": [
    "parrot = fish.find_next_sibling()"
   ],
   "outputs": [],
   "metadata": {}
  },
  {
   "cell_type": "markdown",
   "source": [
    "And you can also find the parrot's children using the method `findChildren`:"
   ],
   "metadata": {}
  },
  {
   "cell_type": "code",
   "execution_count": null,
   "source": [
    "parrot_children = parrot.findChildren()"
   ],
   "outputs": [],
   "metadata": {}
  },
  {
   "cell_type": "markdown",
   "source": [
    "# Challenge: What is a Method?"
   ],
   "metadata": {}
  },
  {
   "cell_type": "markdown",
   "source": [
    "It is time to apply what you have learned so far about BeautifulSoup. Go to the following page, and look information about the `Methods` section. [https://en.wikipedia.org/wiki/Python_(programming_language)](https://en.wikipedia.org/wiki/Python_(programming_language))\n",
    "\n",
    "You only need to extract the text from that section."
   ],
   "metadata": {}
  },
  {
   "cell_type": "markdown",
   "source": [
    "<p align=\"center\">\n",
    "  <img src='images/BS4_3.png' width=500>\n",
    "</p>"
   ],
   "metadata": {}
  },
  {
   "cell_type": "markdown",
   "source": [
    "_Tip_: The `p` tag containing the text does not have any attributes. Try looking at the `h3` tag before it, or the `a` child tag. From there, you can start moving around."
   ],
   "metadata": {}
  },
  {
   "cell_type": "markdown",
   "source": [
    "# Finding tree elements within a `HTMLElement` using xpath\n",
    "\n",
    "Xpath is a query language for selecting nodes/branches/elements within a tree-like data structure like HTML or XML. \n",
    "\n",
    "Below is a very simple xpath expression. This one finds all of the button elements in the html\n",
    "\n",
    "#### `//button` \n",
    "\n",
    "The `//` says \"anywhere in the tree\" and the `button` says find elements that have the tag type button. So this xpath expression says \"find button tags anywhere within the tree\"\n",
    "\n",
    "The `xpath` method of `HTMLElement` takes in an xpath expression returns a list of all elements in the tree that match it.\n",
    "\n",
    "Below are more examples of how to use xpath\n",
    "\n",
    "`/button` find **child** (not all) tags of type button, of the element\n",
    "\n",
    "`//div/button` - finds all of the button tags inside div tags anywhere on the page\n",
    "\n",
    "`//div[@id='custom_id']` - finds all div tags with the attribute (`@`) `id` equal to `custom_id`, anywhere on the page \n",
    "\n",
    "If any of these don't make sense, let us know after [looking it up](https://www.w3schools.com/xml/xpath_syntax.asp).\n",
    "\n",
    "Use the `//button` xpath expression as an argument to find the button on the page"
   ],
   "metadata": {}
  },
  {
   "cell_type": "code",
   "execution_count": null,
   "source": [
    "%%bash\n",
    "pip install selenium"
   ],
   "outputs": [],
   "metadata": {}
  },
  {
   "cell_type": "markdown",
   "source": [
    "## Using the developer console to identify the right xpath\n",
    "\n",
    "### How to open the console\n",
    "\n",
    "Modern browsers come with tools to maximise web developers productivity and help find bugs.\n",
    "\n",
    "The developer console has a lot of different tools. \n",
    "\n",
    "Open your element inspector by pressing `CTRL + SHIFT + C`.\n",
    "It should open on the right hand side of your screen as shown below.\n",
    "\n",
    "The elements tab of the developer console shows you the HTML and CSS that make up the website code (actually it shows the DOM. Read more about what exactly the DOM is [here](https://css-tricks.com/dom/)).\n",
    "\n",
    "You can always close the developer console by clicking the cross in the corner. \n",
    "\n",
    "Check out the zoopla website for yourself. Try using your selector to see the HTML structure of the page.\n",
    "![](./images/form_selector.png)\n",
    "\n",
    "Now use your selector to find the location of the button as shown below.\n",
    "\n",
    "![](./images/button_selector.png)\n",
    "\n",
    "As mentioned, the selector allows us to visualise the DOM and find elements within our webpage.\n",
    "\n",
    "\n",
    "### Challenge: How many HTML buttons are there on the homepage? "
   ],
   "metadata": {}
  },
  {
   "cell_type": "markdown",
<<<<<<< HEAD
   "metadata": {},
   "source": [
    "### Challenge: Extract the property address for the following URL: https://www.zoopla.co.uk/new-homes/details/55319462"
   ]
  },
  {
   "cell_type": "code",
   "execution_count": 21,
   "metadata": {
    "ExecuteTime": {
     "end_time": "2021-08-16T19:31:43.762843Z",
     "start_time": "2021-08-16T19:31:41.991376Z"
    }
   },
   "outputs": [
    {
     "ename": "NameError",
     "evalue": "name 'html' is not defined",
     "output_type": "error",
     "traceback": [
      "\u001b[0;31m---------------------------------------------------------------------------\u001b[0m",
      "\u001b[0;31mNameError\u001b[0m                                 Traceback (most recent call last)",
      "\u001b[0;32m/var/folders/dn/_ysfbs6s2vz_pmnp3hg_bkgc0000gn/T/ipykernel_60544/3074988232.py\u001b[0m in \u001b[0;36m<module>\u001b[0;34m\u001b[0m\n\u001b[1;32m      4\u001b[0m \u001b[0mhtml_string\u001b[0m \u001b[0;34m=\u001b[0m \u001b[0mr\u001b[0m\u001b[0;34m.\u001b[0m\u001b[0mtext\u001b[0m \u001b[0;31m# the text attribute of this response is the HTML as a string\u001b[0m\u001b[0;34m\u001b[0m\u001b[0;34m\u001b[0m\u001b[0m\n\u001b[1;32m      5\u001b[0m \u001b[0;34m\u001b[0m\u001b[0m\n\u001b[0;32m----> 6\u001b[0;31m \u001b[0mtree\u001b[0m \u001b[0;34m=\u001b[0m \u001b[0mhtml\u001b[0m\u001b[0;34m.\u001b[0m\u001b[0mfromstring\u001b[0m\u001b[0;34m(\u001b[0m\u001b[0mhtml_string\u001b[0m\u001b[0;34m)\u001b[0m\u001b[0;34m\u001b[0m\u001b[0;34m\u001b[0m\u001b[0m\n\u001b[0m\u001b[1;32m      7\u001b[0m \u001b[0maddress_element\u001b[0m \u001b[0;34m=\u001b[0m \u001b[0mtree\u001b[0m\u001b[0;34m.\u001b[0m\u001b[0mcssselect\u001b[0m\u001b[0;34m(\u001b[0m\u001b[0;34m\"h2.ui-property-summary__address\"\u001b[0m\u001b[0;34m)\u001b[0m\u001b[0;34m[\u001b[0m\u001b[0;36m0\u001b[0m\u001b[0;34m]\u001b[0m\u001b[0;34m.\u001b[0m\u001b[0mtext\u001b[0m\u001b[0;34m\u001b[0m\u001b[0;34m\u001b[0m\u001b[0m\n\u001b[1;32m      8\u001b[0m \u001b[0maddress_element\u001b[0m \u001b[0;34m=\u001b[0m \u001b[0mtree\u001b[0m\u001b[0;34m.\u001b[0m\u001b[0mfind\u001b[0m\u001b[0;34m(\u001b[0m\u001b[0;34m\".//h2[@class='ui-property-summary__address']\"\u001b[0m\u001b[0;34m)\u001b[0m\u001b[0;34m.\u001b[0m\u001b[0mtext\u001b[0m\u001b[0;34m\u001b[0m\u001b[0;34m\u001b[0m\u001b[0m\n",
      "\u001b[0;31mNameError\u001b[0m: name 'html' is not defined"
     ]
    }
   ],
   "source": [
    "import requests\n",
    "URL = \"https://www.zoopla.co.uk/new-homes/details/55319462\"\n",
    "r = requests.get(URL) # make a HTTP GET request to this website\n",
    "html_string = r.text # the text attribute of this response is the HTML as a string\n",
=======
   "source": [
    "### We can find elements, and then search for elements within them!\n",
    "\n",
    "Elements returned from finding them by xpath also have the same search methods. They are the same object type.\n",
>>>>>>> 008b1d266bc4dc23ee8ffc5ff2f7995e2c24d70c
    "\n",
    "### We can search for elements in more ways than just xpath\n",
    "\n",
    "There are loads of ways to find elements within HTML.\n",
    "\n",
    "Let's check what methods and properties of our tree object exist by calling the built-in `dir()` method."
   ],
   "metadata": {}
  },
  {
   "cell_type": "markdown",
   "source": [
    "## Beyond just GETTING static HTML\n",
    "\n",
    "\n",
    "### Why might using requests to get the website content not work?\n",
    "\n",
    "Some elements on webpages are inserted or manipulated by javascript code that runs only after the HTML is rendered.\n",
    "\n",
    "Some information that you want may be shown only after interacting with certain elements.\n",
    "\n",
    "The GET requests to the website just get the HTML file. They don't actually run the javascript code, or interact with the page after it renders. So parsing them for our data won't work.\n",
    "\n",
    "Again, there is a way around this. We can use a library called Selenium to take control of a browser that can then be programatically instructed to fill in forms, click elements, and find data on any webpage.\n",
    "\n",
    "## Selenium\n",
    "\n",
    "Selenium is a tool for programmatically controlling a browser. It's originally intended to be used for creating unit tests, but it can also be used to do anything that needs a browser to be controlled.\n",
    "\n",
    "Check out the docs [here](https://selenium-python.readthedocs.io/)\n",
    "\n",
    "### Webdriving\n",
    "\n",
    "Selenium can \"drive\" a web browser. This means it can take full control of it and, find elements, click, scroll, execute js etc.\n",
    "\n",
    "You need to specify which browsers this webdriver will drive such as Chrome or Firefox. To drive a browser you need to have the driver installed. We'll use the chrome browser and download it's driver called Chromedriver.\n",
    "\n",
    "We'll have to install chromedriver to drive our chrome browser. You should ensure you have the correct version, which should be the same as the version of chrome which you wish to drive. \n",
    "\n",
    "[Check your chrome version here](https://help.zenplanner.com/hc/en-us/articles/204253654-How-to-Find-Your-Internet-Browser-Version-Number-Google-Chrome)\n",
    "\n",
    "[Download chromedriver from here](https://chromedriver.chromium.org/downloads)\n",
    "\n",
    "If you are using FireFox, you need to download the geckodriver. You can download it from [here](https://github.com/mozilla/geckodriver/releases)\n",
    "\n",
    "If you are using Edge, you need to download the MicrosoftWebDriver. You can download it from [here](https://developer.microsoft.com/en-us/microsoft-edge/tools/webdriver/)\n",
    "\n",
    "If you are using Safari, you can go to your browser, go to `Developer`, and set the \"Allow Remote Automation\" to \"Yes\"."
   ],
   "metadata": {}
  },
  {
   "cell_type": "markdown",
   "source": [
    "Once you download the driver, you can move it to the Python Path. This will make things easier when you have to work in different directories. To move it to the path, you can do the following command:\n",
    "\n",
    "1. Observe your `PATH` environment variable by running `echo $PATH`:\n"
   ],
   "metadata": {}
  },
  {
   "cell_type": "code",
<<<<<<< HEAD
   "execution_count": 10,
   "metadata": {
    "ExecuteTime": {
     "end_time": "2021-08-16T17:48:27.625741Z",
     "start_time": "2021-08-16T17:48:23.616159Z"
    }
   },
   "outputs": [],
=======
   "execution_count": 6,
   "source": [
    "%%bash\n",
    "echo $PATH"
   ],
   "outputs": [
    {
     "output_type": "stream",
     "name": "stdout",
     "text": [
      "/opt/miniconda3/bin:/opt/miniconda3/condabin:/usr/local/bin:/usr/bin:/bin:/usr/sbin:/sbin\n"
     ]
    }
   ],
   "metadata": {}
  },
  {
   "cell_type": "markdown",
   "source": [
    "2. Move your driver file to any of the directories in your `PATH` environment variable. For example, if you are using `/usr/local/bin` as your `PATH` environment variable, you can move the driver to `/usr/local/bin` by running `mv chromedriver /usr/local/bin`. Make sure to replace `chromedriver` with the name of your driver."
   ],
   "metadata": {}
  },
  {
   "cell_type": "code",
   "execution_count": 1,
>>>>>>> 008b1d266bc4dc23ee8ffc5ff2f7995e2c24d70c
   "source": [
    "from selenium import webdriver\n",
    "from time import sleep\n",
    "\n",
<<<<<<< HEAD
    "driver = webdriver.Chrome('chromedriver') \n",
=======
    "driver = webdriver.Chrome()\n",
>>>>>>> 008b1d266bc4dc23ee8ffc5ff2f7995e2c24d70c
    "driver.get(\"https://zoopla.co.uk\")"
   ],
   "outputs": [],
   "metadata": {}
  },
  {
   "cell_type": "markdown",
   "source": [
    "Cool! We see that we've navigated to the Zoopla.co.uk website. We can search for elements via `xpath` and can also send mouse and keyboard actions through Selenium as well. Let's recall the challenge we want to solve - extracting data for 50 houses:\n",
    "- **Sale Price**: Our response variable\n",
    "- Number of bedrooms\n",
    "- Square footage\n",
    "- Description\n",
    "- Address\n",
    "\n",
    "We'll focus our efforts just in the London area"
   ],
   "metadata": {}
  },
  {
   "cell_type": "code",
<<<<<<< HEAD
   "execution_count": 11,
   "metadata": {
    "ExecuteTime": {
     "end_time": "2021-08-16T18:23:57.164094Z",
     "start_time": "2021-08-16T18:23:47.528549Z"
    }
   },
   "outputs": [],
   "source": [
    "driver = webdriver.Chrome('chromedriver') \n",
=======
   "execution_count": 2,
   "source": [
    "driver = webdriver.Chrome() \n",
>>>>>>> 008b1d266bc4dc23ee8ffc5ff2f7995e2c24d70c
    "URL = \"https://www.zoopla.co.uk/new-homes/property/london/?q=London&results_sort=newest_listings&search_source=new-homes&page_size=25&pn=1&view_type=list\"\n",
    "driver.get(URL)"
   ],
   "outputs": [],
   "metadata": {}
  },
  {
   "cell_type": "markdown",
   "source": [
    "Oh... Looks like cookies are blocking us... We need to find a way to get around this 🤔. Let's start by using xpath to find the \"Accept All Cookies\" button"
   ],
   "metadata": {}
  },
  {
   "cell_type": "code",
   "execution_count": 4,
   "source": [
    "## Find the \"Accept all cookies button\"\n",
    "try:\n",
    "    accept_cookies = driver.find_element_by_xpath('//*[@id=\"cookie-consent-form\"]/div/div/div/button[2]')\n",
    "    print(accept_cookies.text)\n",
    "except:\n",
    "    pass"
   ],
   "outputs": [
    {
     "output_type": "stream",
     "name": "stdout",
     "text": [
      "Accept all cookies\n"
     ]
    }
   ],
   "metadata": {}
  },
  {
   "cell_type": "code",
   "execution_count": 5,
   "source": [
    "accept_cookies.click()"
   ],
   "outputs": [],
   "metadata": {}
  },
  {
   "cell_type": "markdown",
   "source": [
    "Looks like there's more than one element - we can find the one we want by searching for the \"Accept all cookies\" text"
   ],
   "metadata": {}
  },
  {
   "cell_type": "code",
   "execution_count": 10,
   "source": [
    "price = driver.find_element_by_xpath('//span[@data-testid=\"price\"]').text\n",
    "print(price)\n",
    "address = driver.find_element_by_xpath('//span[@data-testid=\"address-label\"]').text\n",
    "print(address)\n",
    "bedrooms = driver.find_element_by_xpath('//span[@data-testid=\"beds-label\"]').text\n",
    "print(bedrooms)\n",
    "div_tag = driver.find_element_by_xpath('//div[@data-testid=\"truncated_text_container\"]')\n",
    "span_tag = div_tag.find_element_by_xpath('.//span')\n",
    "description = span_tag.text\n",
    "print(description)"
   ],
   "outputs": [
    {
     "output_type": "stream",
     "name": "stdout",
     "text": [
      "£550,000\n",
      "Walnut Road, Walthamstow E10\n",
      "4 beds\n",
      "Icon Estates are delighted to offer for sale this four-bedroom terraced house.\n",
      "The property is located in the very popular location of Leyton.\n",
      "This property offers great size throughout and has through lounge, 4 bedrooms, dining room / kitchen, 1 family bathroom, 1WC, partially paved garden and a conservatory. This property is suitable for a family, investors or first-time buyers. It is close to all local amenities including schools, parks and shops.\n",
      "\n",
      "Bedroom 1 - 3.82m x 3.44m (12'53\" x 11'29\")\n",
      "Bedroom 2 - 2.25m x 3.95m (7'38\" x 12'96\")\n",
      "Bedroom 3 - 3.83m x 2.27m (12'57\" x 7'45\")\n",
      "Bedroom 4 - 3.83m x 2.85m (12'57\" x 9'35\")\n",
      "Kitchen - 3.99m x 2.71m (13'1\" x 8'89\")\n",
      "Living / Dining Room - 3.45m x 3.85m (11'32\" x 12'63\")\n",
      "Bathroom - 1.48m x 2.38m (4'86\" x 7'81\")\n",
      "- 0.84m x 1.54m (2'76\" x 5'05\")\n",
      "\n",
      "Garden - Partially paved garden at the back.\n",
      "\n",
      "Disclaimer:\n",
      "\n",
      "The information provided about this property does not constitute or form part of any offer or contract, nor may it be relied upon as representations or statements of fact. All measurements are approximate and should be used as a guide only. Any systems, services or appliances listed herein have not been tested by us and therefore we cannot verify or guarantee they are in working order. Details of planning and building regulations for any works carried out on the property should be specifically verified by the purchasers’ conveyancer or solicitor, as should tenure/lease information (where appropriate)\n"
     ]
    }
   ],
   "metadata": {}
  },
  {
   "cell_type": "markdown",
   "source": [
    "Now that we have a button, we can send a click action to it!"
   ],
   "metadata": {}
  },
  {
   "cell_type": "code",
   "execution_count": 11,
   "source": [
    "dict_properties = {'Price': [], 'Address': [], 'Bedrooms': [], 'Sqft': [], 'Description': []}\n",
    "price = driver.find_element_by_xpath('//span[@data-testid=\"price\"]').text\n",
    "dict_properties['Price'].append(price)\n",
    "address = driver.find_element_by_xpath('//span[@data-testid=\"address-label\"]').text\n",
    "dict_properties['Address'].append(address)\n",
    "bedrooms = driver.find_element_by_xpath('//span[@data-testid=\"beds-label\"]').text\n",
    "dict_properties['Bedrooms'].append(bedrooms)\n",
    "div_tag = driver.find_element_by_xpath('//div[@data-testid=\"truncated_text_container\"]')\n",
    "span_tag = div_tag.find_element_by_xpath('.//span')\n",
    "description = span_tag.text\n",
    "print(description)"
   ],
   "outputs": [
    {
     "output_type": "stream",
     "name": "stdout",
     "text": [
      "Icon Estates are delighted to offer for sale this four-bedroom terraced house.\n",
      "The property is located in the very popular location of Leyton.\n",
      "This property offers great size throughout and has through lounge, 4 bedrooms, dining room / kitchen, 1 family bathroom, 1WC, partially paved garden and a conservatory. This property is suitable for a family, investors or first-time buyers. It is close to all local amenities including schools, parks and shops.\n",
      "\n",
      "Bedroom 1 - 3.82m x 3.44m (12'53\" x 11'29\")\n",
      "Bedroom 2 - 2.25m x 3.95m (7'38\" x 12'96\")\n",
      "Bedroom 3 - 3.83m x 2.27m (12'57\" x 7'45\")\n",
      "Bedroom 4 - 3.83m x 2.85m (12'57\" x 9'35\")\n",
      "Kitchen - 3.99m x 2.71m (13'1\" x 8'89\")\n",
      "Living / Dining Room - 3.45m x 3.85m (11'32\" x 12'63\")\n",
      "Bathroom - 1.48m x 2.38m (4'86\" x 7'81\")\n",
      "- 0.84m x 1.54m (2'76\" x 5'05\")\n",
      "\n",
      "Garden - Partially paved garden at the back.\n",
      "\n",
      "Disclaimer:\n",
      "\n",
      "The information provided about this property does not constitute or form part of any offer or contract, nor may it be relied upon as representations or statements of fact. All measurements are approximate and should be used as a guide only. Any systems, services or appliances listed herein have not been tested by us and therefore we cannot verify or guarantee they are in working order. Details of planning and building regulations for any works carried out on the property should be specifically verified by the purchasers’ conveyancer or solicitor, as should tenure/lease information (where appropriate)\n"
     ]
    }
   ],
   "metadata": {}
  },
  {
   "cell_type": "code",
   "execution_count": 13,
   "source": [
    "dict_properties['Sqft'].append(None)\n",
    "print(dict_properties)"
   ],
   "outputs": [
    {
     "output_type": "stream",
     "name": "stdout",
     "text": [
      "{'Price': ['£550,000'], 'Address': ['Walnut Road, Walthamstow E10'], 'Bedrooms': ['4 beds'], 'Sqft': [None], 'Description': []}\n"
     ]
    }
   ],
   "metadata": {}
  },
  {
   "cell_type": "code",
   "execution_count": 14,
   "source": [
    "driver.back()"
   ],
   "outputs": [],
   "metadata": {}
  },
  {
   "cell_type": "markdown",
   "source": [
    "Awesome! Selenium will allow us to do many other things, such as scroll, click, and send keystrokes. For example, you can run the following cells one by one and observe the results."
   ],
   "metadata": {}
  },
  {
   "cell_type": "code",
   "execution_count": 7,
   "source": [
    "from selenium import webdriver\n",
    "from selenium.webdriver.common.keys import Keys\n",
    "driver = webdriver.Chrome()\n",
    "\n",
    "driver.get(\"http://www.python.org\")"
   ],
   "outputs": [],
   "metadata": {}
  },
  {
   "cell_type": "markdown",
   "source": [
    "You are in the official Python Webpage, let's scroll down to the bottom of the page."
   ],
   "metadata": {}
  },
  {
   "cell_type": "code",
<<<<<<< HEAD
   "execution_count": 22,
   "metadata": {
    "ExecuteTime": {
     "end_time": "2021-08-16T19:32:50.575387Z",
     "start_time": "2021-08-16T19:32:50.557614Z"
    }
   },
   "outputs": [
    {
     "name": "stdout",
     "output_type": "stream",
     "text": [
      "[]\n"
     ]
    }
   ],
=======
   "execution_count": null,
   "source": [
    "driver.execute_script(\"window.scrollTo(0, document.body.scrollHeight);\")"
   ],
   "outputs": [],
   "metadata": {}
  },
  {
   "cell_type": "markdown",
>>>>>>> 008b1d266bc4dc23ee8ffc5ff2f7995e2c24d70c
   "source": [
    "The next cell will look for the search bar and click it."
   ],
   "metadata": {}
  },
  {
   "cell_type": "code",
   "execution_count": 9,
   "source": [
    "search_bar = driver.find_element_by_xpath('//*[@id=\"id-search-field\"]')\n",
    "search_bar.click()"
   ],
   "outputs": [],
   "metadata": {}
  },
  {
   "cell_type": "markdown",
   "source": [
    "Now that you clicked it, you can send a keystroke to the search bar."
   ],
   "metadata": {}
  },
  {
   "cell_type": "code",
   "execution_count": 10,
   "source": [
    "search_bar.send_keys(\"method\")"
   ],
   "outputs": [],
   "metadata": {}
  },
  {
   "cell_type": "markdown",
   "source": [
    "And once you enter the text, you can 'Press Enter'"
   ],
   "metadata": {}
  },
  {
   "cell_type": "code",
<<<<<<< HEAD
   "execution_count": 14,
   "metadata": {
    "ExecuteTime": {
     "end_time": "2021-08-16T19:19:32.877689Z",
     "start_time": "2021-08-16T19:19:32.873524Z"
    }
   },
=======
   "execution_count": 11,
   "source": [
    "search_bar.send_keys(Keys.RETURN)"
   ],
>>>>>>> 008b1d266bc4dc23ee8ffc5ff2f7995e2c24d70c
   "outputs": [],
   "metadata": {}
  },
  {
   "cell_type": "markdown",
   "source": [
    "Good stuff. With that in mind, we can keep going with the Zoopla challenge."
   ],
   "metadata": {}
  },
  {
   "cell_type": "code",
   "execution_count": 13,
   "source": [
    "from selenium import webdriver\n",
    "import time\n",
    "\n",
    "driver = webdriver.Chrome() \n",
    "URL = \"https://www.zoopla.co.uk/new-homes/property/london/?q=London&results_sort=newest_listings&search_source=new-homes&page_size=25&pn=1&view_type=list\"\n",
    "driver.get(URL)\n",
    "accept_cookies = driver.find_elements_by_xpath('//button[@data-responsibility=\"acceptAll\"]')\n",
    "for button in accept_cookies:\n",
    "    if button.text == \"Accept all cookies\":\n",
    "        relevant_button = button\n",
    "\n",
    "relevant_button.click()\n",
    "# Send your driver to sleep before doing anything else, so the webpage doesn't suspect you are a bot\n",
    "\n",
    "time.sleep(2)\n",
    "\n",
    "properties = driver.find_elements_by_xpath(\"//ul[@class='listing-results clearfix js-gtm-list']/li\")\n",
    "print(properties)"
   ],
   "outputs": [
    {
     "output_type": "stream",
     "name": "stdout",
     "text": [
      "[]\n"
     ]
    }
   ],
   "metadata": {}
  },
  {
   "cell_type": "markdown",
   "source": [
    "From looking at the website, we can see that to access the full descsription, we need to navigate to the actual page of the listing. Let's create a dictionary which we can use to store all of the acquired data, and a for loop which will loop over the properties we've just obtained extract the relevant data."
   ],
   "metadata": {}
  },
  {
   "cell_type": "code",
   "execution_count": 15,
   "source": [
    "def load_and_accept_cookies():\n",
    "        \n",
<<<<<<< HEAD
    "    driver = webdriver.Chrome('chromedriver') \n",
=======
    "    driver = webdriver.Chrome() \n",
>>>>>>> 008b1d266bc4dc23ee8ffc5ff2f7995e2c24d70c
    "    URL = \"https://www.zoopla.co.uk/new-homes/property/london/?q=London&results_sort=newest_listings&search_source=new-homes&page_size=25&pn=1&view_type=list\"\n",
    "    driver.get(URL)\n",
    "    accept_cookies = driver.find_elements_by_xpath('//button[@data-responsibility=\"acceptAll\"]')\n",
    "    for button in accept_cookies:\n",
    "        if button.text == \"Accept all cookies\":\n",
    "            relevant_button = button\n",
    "\n",
    "    relevant_button.click()\n",
    "    return driver"
   ],
   "outputs": [],
   "metadata": {}
  },
  {
   "cell_type": "code",
<<<<<<< HEAD
   "execution_count": 19,
   "metadata": {
    "ExecuteTime": {
     "end_time": "2021-08-16T19:25:13.164909Z",
     "start_time": "2021-08-16T19:25:03.257164Z"
    }
   },
   "outputs": [
    {
     "name": "stdout",
     "output_type": "stream",
     "text": [
      "[]\n"
     ]
    },
    {
     "ename": "IndexError",
     "evalue": "list index out of range",
     "output_type": "error",
     "traceback": [
      "\u001b[0;31m---------------------------------------------------------------------------\u001b[0m",
      "\u001b[0;31mIndexError\u001b[0m                                Traceback (most recent call last)",
      "\u001b[0;32m/var/folders/dn/_ysfbs6s2vz_pmnp3hg_bkgc0000gn/T/ipykernel_60544/3185869101.py\u001b[0m in \u001b[0;36m<module>\u001b[0;34m\u001b[0m\n\u001b[1;32m     47\u001b[0m     \u001b[0;32mreturn\u001b[0m \u001b[0mdata\u001b[0m\u001b[0;34m\u001b[0m\u001b[0;34m\u001b[0m\u001b[0m\n\u001b[1;32m     48\u001b[0m \u001b[0;34m\u001b[0m\u001b[0m\n\u001b[0;32m---> 49\u001b[0;31m \u001b[0mproperties\u001b[0m \u001b[0;34m=\u001b[0m \u001b[0mget_properties\u001b[0m\u001b[0;34m(\u001b[0m\u001b[0;34m)\u001b[0m\u001b[0;34m\u001b[0m\u001b[0;34m\u001b[0m\u001b[0m\n\u001b[0m",
      "\u001b[0;32m/var/folders/dn/_ysfbs6s2vz_pmnp3hg_bkgc0000gn/T/ipykernel_60544/3185869101.py\u001b[0m in \u001b[0;36mget_properties\u001b[0;34m(num_to_get)\u001b[0m\n\u001b[1;32m     12\u001b[0m         \u001b[0;31m## Find the price and append it to the dictionary\u001b[0m\u001b[0;34m\u001b[0m\u001b[0;34m\u001b[0m\u001b[0;34m\u001b[0m\u001b[0m\n\u001b[1;32m     13\u001b[0m         \u001b[0mprint\u001b[0m\u001b[0;34m(\u001b[0m\u001b[0mdriver\u001b[0m\u001b[0;34m.\u001b[0m\u001b[0mfind_elements_by_xpath\u001b[0m\u001b[0;34m(\u001b[0m\u001b[0;34m\"{}//a[@class='listing-results-price text-price']\"\u001b[0m\u001b[0;34m.\u001b[0m\u001b[0mformat\u001b[0m\u001b[0;34m(\u001b[0m\u001b[0mPROPERTY_BASE\u001b[0m\u001b[0;34m)\u001b[0m\u001b[0;34m)\u001b[0m\u001b[0;34m)\u001b[0m\u001b[0;34m\u001b[0m\u001b[0;34m\u001b[0m\u001b[0m\n\u001b[0;32m---> 14\u001b[0;31m         \u001b[0mprice_elem\u001b[0m \u001b[0;34m=\u001b[0m \u001b[0mdriver\u001b[0m\u001b[0;34m.\u001b[0m\u001b[0mfind_elements_by_xpath\u001b[0m\u001b[0;34m(\u001b[0m\u001b[0;34m\"{}//a[@class='listing-results-price text-price']\"\u001b[0m\u001b[0;34m.\u001b[0m\u001b[0mformat\u001b[0m\u001b[0;34m(\u001b[0m\u001b[0mPROPERTY_BASE\u001b[0m\u001b[0;34m)\u001b[0m\u001b[0;34m)\u001b[0m\u001b[0;34m[\u001b[0m\u001b[0mi\u001b[0m\u001b[0;34m]\u001b[0m\u001b[0;34m\u001b[0m\u001b[0;34m\u001b[0m\u001b[0m\n\u001b[0m\u001b[1;32m     15\u001b[0m         \u001b[0mdata\u001b[0m\u001b[0;34m[\u001b[0m\u001b[0;34m\"sale_price\"\u001b[0m\u001b[0;34m]\u001b[0m\u001b[0;34m.\u001b[0m\u001b[0mappend\u001b[0m\u001b[0;34m(\u001b[0m\u001b[0mprice_elem\u001b[0m\u001b[0;34m.\u001b[0m\u001b[0mtext\u001b[0m\u001b[0;34m)\u001b[0m\u001b[0;34m\u001b[0m\u001b[0;34m\u001b[0m\u001b[0m\n\u001b[1;32m     16\u001b[0m \u001b[0;34m\u001b[0m\u001b[0m\n",
      "\u001b[0;31mIndexError\u001b[0m: list index out of range"
     ]
    }
   ],
=======
   "execution_count": 22,
   "source": [
    "driver = webdriver.Chrome() \n",
    "URL = \"https://www.zoopla.co.uk/new-homes/property/london/?q=London&results_sort=newest_listings&search_source=new-homes&page_size=25&pn=1&view_type=list\"\n",
    "driver.get(URL)\n",
    "accept_cookies = driver.find_elements_by_xpath('//button[@data-responsibility=\"acceptAll\"]')\n",
    "for button in accept_cookies:\n",
    "    if button.text == \"Accept all cookies\":\n",
    "        relevant_button = button\n",
    "\n",
    "relevant_button.click()\n",
    "# prop_container = driver.find_element_by_xpath('//div[@class=\"css-kdnpqc-ListingsContainer earci3d2\"]')"
   ],
   "outputs": [],
   "metadata": {}
  },
  {
   "cell_type": "code",
   "execution_count": 25,
   "source": [
    "prop_container = driver.find_element_by_xpath('//div[@class=\"css-kdnpqc-ListingsContainer earci3d2\"]')\n",
    "prop_list = prop_container.find_elements_by_xpath('./div')\n",
    "print(len(prop_list))"
   ],
   "outputs": [
    {
     "output_type": "stream",
     "name": "stdout",
     "text": [
      "25\n"
     ]
    }
   ],
   "metadata": {}
  },
  {
   "cell_type": "code",
   "execution_count": 26,
   "source": [
    "driver = webdriver.Chrome() \n",
    "URL = \"https://www.zoopla.co.uk/new-homes/property/london/?q=London&results_sort=newest_listings&search_source=new-homes&page_size=25&pn=1&view_type=list\"\n",
    "driver.get(URL)\n",
    "accept_cookies = driver.find_elements_by_xpath('//button[@data-responsibility=\"acceptAll\"]')\n",
    "for button in accept_cookies:\n",
    "    if button.text == \"Accept all cookies\":\n",
    "        relevant_button = button\n",
    "\n",
    "relevant_button.click()\n",
    "prop_container = driver.find_element_by_xpath('//div[@class=\"css-kdnpqc-ListingsContainer earci3d2\"]')\n",
    "properties = prop_container.find_elements_by_xpath('./div')\n",
    "num_props = len(properties)\n",
    "for i in range(num_props):\n",
    "    prop_container = driver.find_element_by_xpath('//div[@class=\"css-kdnpqc-ListingsContainer earci3d2\"]')\n",
    "    house = prop_container.find_elements_by_xpath('./div')[i]\n",
    "    house.click()\n",
    "    time.sleep(5)\n",
    "    driver.back()\n"
   ],
   "outputs": [
    {
     "output_type": "error",
     "ename": "KeyboardInterrupt",
     "evalue": "",
     "traceback": [
      "\u001b[0;31m---------------------------------------------------------------------------\u001b[0m",
      "\u001b[0;31mKeyboardInterrupt\u001b[0m                         Traceback (most recent call last)",
      "\u001b[0;32m<ipython-input-26-b12e9baef248>\u001b[0m in \u001b[0;36m<module>\u001b[0;34m\u001b[0m\n\u001b[1;32m     16\u001b[0m     \u001b[0mhouse\u001b[0m\u001b[0;34m.\u001b[0m\u001b[0mclick\u001b[0m\u001b[0;34m(\u001b[0m\u001b[0;34m)\u001b[0m\u001b[0;34m\u001b[0m\u001b[0;34m\u001b[0m\u001b[0m\n\u001b[1;32m     17\u001b[0m     \u001b[0mtime\u001b[0m\u001b[0;34m.\u001b[0m\u001b[0msleep\u001b[0m\u001b[0;34m(\u001b[0m\u001b[0;36m5\u001b[0m\u001b[0;34m)\u001b[0m\u001b[0;34m\u001b[0m\u001b[0;34m\u001b[0m\u001b[0m\n\u001b[0;32m---> 18\u001b[0;31m     \u001b[0mdriver\u001b[0m\u001b[0;34m.\u001b[0m\u001b[0mback\u001b[0m\u001b[0;34m(\u001b[0m\u001b[0;34m)\u001b[0m\u001b[0;34m\u001b[0m\u001b[0;34m\u001b[0m\u001b[0m\n\u001b[0m",
      "\u001b[0;32m/opt/miniconda3/lib/python3.9/site-packages/selenium/webdriver/remote/webdriver.py\u001b[0m in \u001b[0;36mback\u001b[0;34m(self)\u001b[0m\n\u001b[1;32m    811\u001b[0m             \u001b[0mdriver\u001b[0m\u001b[0;34m.\u001b[0m\u001b[0mback\u001b[0m\u001b[0;34m(\u001b[0m\u001b[0;34m)\u001b[0m\u001b[0;34m\u001b[0m\u001b[0;34m\u001b[0m\u001b[0m\n\u001b[1;32m    812\u001b[0m         \"\"\"\n\u001b[0;32m--> 813\u001b[0;31m         \u001b[0mself\u001b[0m\u001b[0;34m.\u001b[0m\u001b[0mexecute\u001b[0m\u001b[0;34m(\u001b[0m\u001b[0mCommand\u001b[0m\u001b[0;34m.\u001b[0m\u001b[0mGO_BACK\u001b[0m\u001b[0;34m)\u001b[0m\u001b[0;34m\u001b[0m\u001b[0;34m\u001b[0m\u001b[0m\n\u001b[0m\u001b[1;32m    814\u001b[0m \u001b[0;34m\u001b[0m\u001b[0m\n\u001b[1;32m    815\u001b[0m     \u001b[0;32mdef\u001b[0m \u001b[0mforward\u001b[0m\u001b[0;34m(\u001b[0m\u001b[0mself\u001b[0m\u001b[0;34m)\u001b[0m\u001b[0;34m:\u001b[0m\u001b[0;34m\u001b[0m\u001b[0;34m\u001b[0m\u001b[0m\n",
      "\u001b[0;32m/opt/miniconda3/lib/python3.9/site-packages/selenium/webdriver/remote/webdriver.py\u001b[0m in \u001b[0;36mexecute\u001b[0;34m(self, driver_command, params)\u001b[0m\n\u001b[1;32m    317\u001b[0m \u001b[0;34m\u001b[0m\u001b[0m\n\u001b[1;32m    318\u001b[0m         \u001b[0mparams\u001b[0m \u001b[0;34m=\u001b[0m \u001b[0mself\u001b[0m\u001b[0;34m.\u001b[0m\u001b[0m_wrap_value\u001b[0m\u001b[0;34m(\u001b[0m\u001b[0mparams\u001b[0m\u001b[0;34m)\u001b[0m\u001b[0;34m\u001b[0m\u001b[0;34m\u001b[0m\u001b[0m\n\u001b[0;32m--> 319\u001b[0;31m         \u001b[0mresponse\u001b[0m \u001b[0;34m=\u001b[0m \u001b[0mself\u001b[0m\u001b[0;34m.\u001b[0m\u001b[0mcommand_executor\u001b[0m\u001b[0;34m.\u001b[0m\u001b[0mexecute\u001b[0m\u001b[0;34m(\u001b[0m\u001b[0mdriver_command\u001b[0m\u001b[0;34m,\u001b[0m \u001b[0mparams\u001b[0m\u001b[0;34m)\u001b[0m\u001b[0;34m\u001b[0m\u001b[0;34m\u001b[0m\u001b[0m\n\u001b[0m\u001b[1;32m    320\u001b[0m         \u001b[0;32mif\u001b[0m \u001b[0mresponse\u001b[0m\u001b[0;34m:\u001b[0m\u001b[0;34m\u001b[0m\u001b[0;34m\u001b[0m\u001b[0m\n\u001b[1;32m    321\u001b[0m             \u001b[0mself\u001b[0m\u001b[0;34m.\u001b[0m\u001b[0merror_handler\u001b[0m\u001b[0;34m.\u001b[0m\u001b[0mcheck_response\u001b[0m\u001b[0;34m(\u001b[0m\u001b[0mresponse\u001b[0m\u001b[0;34m)\u001b[0m\u001b[0;34m\u001b[0m\u001b[0;34m\u001b[0m\u001b[0m\n",
      "\u001b[0;32m/opt/miniconda3/lib/python3.9/site-packages/selenium/webdriver/remote/remote_connection.py\u001b[0m in \u001b[0;36mexecute\u001b[0;34m(self, command, params)\u001b[0m\n\u001b[1;32m    372\u001b[0m         \u001b[0mdata\u001b[0m \u001b[0;34m=\u001b[0m \u001b[0mutils\u001b[0m\u001b[0;34m.\u001b[0m\u001b[0mdump_json\u001b[0m\u001b[0;34m(\u001b[0m\u001b[0mparams\u001b[0m\u001b[0;34m)\u001b[0m\u001b[0;34m\u001b[0m\u001b[0;34m\u001b[0m\u001b[0m\n\u001b[1;32m    373\u001b[0m         \u001b[0murl\u001b[0m \u001b[0;34m=\u001b[0m \u001b[0;34m'%s%s'\u001b[0m \u001b[0;34m%\u001b[0m \u001b[0;34m(\u001b[0m\u001b[0mself\u001b[0m\u001b[0;34m.\u001b[0m\u001b[0m_url\u001b[0m\u001b[0;34m,\u001b[0m \u001b[0mpath\u001b[0m\u001b[0;34m)\u001b[0m\u001b[0;34m\u001b[0m\u001b[0;34m\u001b[0m\u001b[0m\n\u001b[0;32m--> 374\u001b[0;31m         \u001b[0;32mreturn\u001b[0m \u001b[0mself\u001b[0m\u001b[0;34m.\u001b[0m\u001b[0m_request\u001b[0m\u001b[0;34m(\u001b[0m\u001b[0mcommand_info\u001b[0m\u001b[0;34m[\u001b[0m\u001b[0;36m0\u001b[0m\u001b[0;34m]\u001b[0m\u001b[0;34m,\u001b[0m \u001b[0murl\u001b[0m\u001b[0;34m,\u001b[0m \u001b[0mbody\u001b[0m\u001b[0;34m=\u001b[0m\u001b[0mdata\u001b[0m\u001b[0;34m)\u001b[0m\u001b[0;34m\u001b[0m\u001b[0;34m\u001b[0m\u001b[0m\n\u001b[0m\u001b[1;32m    375\u001b[0m \u001b[0;34m\u001b[0m\u001b[0m\n\u001b[1;32m    376\u001b[0m     \u001b[0;32mdef\u001b[0m \u001b[0m_request\u001b[0m\u001b[0;34m(\u001b[0m\u001b[0mself\u001b[0m\u001b[0;34m,\u001b[0m \u001b[0mmethod\u001b[0m\u001b[0;34m,\u001b[0m \u001b[0murl\u001b[0m\u001b[0;34m,\u001b[0m \u001b[0mbody\u001b[0m\u001b[0;34m=\u001b[0m\u001b[0;32mNone\u001b[0m\u001b[0;34m)\u001b[0m\u001b[0;34m:\u001b[0m\u001b[0;34m\u001b[0m\u001b[0;34m\u001b[0m\u001b[0m\n",
      "\u001b[0;32m/opt/miniconda3/lib/python3.9/site-packages/selenium/webdriver/remote/remote_connection.py\u001b[0m in \u001b[0;36m_request\u001b[0;34m(self, method, url, body)\u001b[0m\n\u001b[1;32m    395\u001b[0m \u001b[0;34m\u001b[0m\u001b[0m\n\u001b[1;32m    396\u001b[0m         \u001b[0;32mif\u001b[0m \u001b[0mself\u001b[0m\u001b[0;34m.\u001b[0m\u001b[0mkeep_alive\u001b[0m\u001b[0;34m:\u001b[0m\u001b[0;34m\u001b[0m\u001b[0;34m\u001b[0m\u001b[0m\n\u001b[0;32m--> 397\u001b[0;31m             \u001b[0mresp\u001b[0m \u001b[0;34m=\u001b[0m \u001b[0mself\u001b[0m\u001b[0;34m.\u001b[0m\u001b[0m_conn\u001b[0m\u001b[0;34m.\u001b[0m\u001b[0mrequest\u001b[0m\u001b[0;34m(\u001b[0m\u001b[0mmethod\u001b[0m\u001b[0;34m,\u001b[0m \u001b[0murl\u001b[0m\u001b[0;34m,\u001b[0m \u001b[0mbody\u001b[0m\u001b[0;34m=\u001b[0m\u001b[0mbody\u001b[0m\u001b[0;34m,\u001b[0m \u001b[0mheaders\u001b[0m\u001b[0;34m=\u001b[0m\u001b[0mheaders\u001b[0m\u001b[0;34m)\u001b[0m\u001b[0;34m\u001b[0m\u001b[0;34m\u001b[0m\u001b[0m\n\u001b[0m\u001b[1;32m    398\u001b[0m \u001b[0;34m\u001b[0m\u001b[0m\n\u001b[1;32m    399\u001b[0m             \u001b[0mstatuscode\u001b[0m \u001b[0;34m=\u001b[0m \u001b[0mresp\u001b[0m\u001b[0;34m.\u001b[0m\u001b[0mstatus\u001b[0m\u001b[0;34m\u001b[0m\u001b[0;34m\u001b[0m\u001b[0m\n",
      "\u001b[0;32m/opt/miniconda3/lib/python3.9/site-packages/urllib3/request.py\u001b[0m in \u001b[0;36mrequest\u001b[0;34m(self, method, url, fields, headers, **urlopen_kw)\u001b[0m\n\u001b[1;32m     76\u001b[0m             )\n\u001b[1;32m     77\u001b[0m         \u001b[0;32melse\u001b[0m\u001b[0;34m:\u001b[0m\u001b[0;34m\u001b[0m\u001b[0;34m\u001b[0m\u001b[0m\n\u001b[0;32m---> 78\u001b[0;31m             return self.request_encode_body(\n\u001b[0m\u001b[1;32m     79\u001b[0m                 \u001b[0mmethod\u001b[0m\u001b[0;34m,\u001b[0m \u001b[0murl\u001b[0m\u001b[0;34m,\u001b[0m \u001b[0mfields\u001b[0m\u001b[0;34m=\u001b[0m\u001b[0mfields\u001b[0m\u001b[0;34m,\u001b[0m \u001b[0mheaders\u001b[0m\u001b[0;34m=\u001b[0m\u001b[0mheaders\u001b[0m\u001b[0;34m,\u001b[0m \u001b[0;34m**\u001b[0m\u001b[0murlopen_kw\u001b[0m\u001b[0;34m\u001b[0m\u001b[0;34m\u001b[0m\u001b[0m\n\u001b[1;32m     80\u001b[0m             )\n",
      "\u001b[0;32m/opt/miniconda3/lib/python3.9/site-packages/urllib3/request.py\u001b[0m in \u001b[0;36mrequest_encode_body\u001b[0;34m(self, method, url, fields, headers, encode_multipart, multipart_boundary, **urlopen_kw)\u001b[0m\n\u001b[1;32m    168\u001b[0m         \u001b[0mextra_kw\u001b[0m\u001b[0;34m.\u001b[0m\u001b[0mupdate\u001b[0m\u001b[0;34m(\u001b[0m\u001b[0murlopen_kw\u001b[0m\u001b[0;34m)\u001b[0m\u001b[0;34m\u001b[0m\u001b[0;34m\u001b[0m\u001b[0m\n\u001b[1;32m    169\u001b[0m \u001b[0;34m\u001b[0m\u001b[0m\n\u001b[0;32m--> 170\u001b[0;31m         \u001b[0;32mreturn\u001b[0m \u001b[0mself\u001b[0m\u001b[0;34m.\u001b[0m\u001b[0murlopen\u001b[0m\u001b[0;34m(\u001b[0m\u001b[0mmethod\u001b[0m\u001b[0;34m,\u001b[0m \u001b[0murl\u001b[0m\u001b[0;34m,\u001b[0m \u001b[0;34m**\u001b[0m\u001b[0mextra_kw\u001b[0m\u001b[0;34m)\u001b[0m\u001b[0;34m\u001b[0m\u001b[0;34m\u001b[0m\u001b[0m\n\u001b[0m",
      "\u001b[0;32m/opt/miniconda3/lib/python3.9/site-packages/urllib3/poolmanager.py\u001b[0m in \u001b[0;36murlopen\u001b[0;34m(self, method, url, redirect, **kw)\u001b[0m\n\u001b[1;32m    373\u001b[0m             \u001b[0mresponse\u001b[0m \u001b[0;34m=\u001b[0m \u001b[0mconn\u001b[0m\u001b[0;34m.\u001b[0m\u001b[0murlopen\u001b[0m\u001b[0;34m(\u001b[0m\u001b[0mmethod\u001b[0m\u001b[0;34m,\u001b[0m \u001b[0murl\u001b[0m\u001b[0;34m,\u001b[0m \u001b[0;34m**\u001b[0m\u001b[0mkw\u001b[0m\u001b[0;34m)\u001b[0m\u001b[0;34m\u001b[0m\u001b[0;34m\u001b[0m\u001b[0m\n\u001b[1;32m    374\u001b[0m         \u001b[0;32melse\u001b[0m\u001b[0;34m:\u001b[0m\u001b[0;34m\u001b[0m\u001b[0;34m\u001b[0m\u001b[0m\n\u001b[0;32m--> 375\u001b[0;31m             \u001b[0mresponse\u001b[0m \u001b[0;34m=\u001b[0m \u001b[0mconn\u001b[0m\u001b[0;34m.\u001b[0m\u001b[0murlopen\u001b[0m\u001b[0;34m(\u001b[0m\u001b[0mmethod\u001b[0m\u001b[0;34m,\u001b[0m \u001b[0mu\u001b[0m\u001b[0;34m.\u001b[0m\u001b[0mrequest_uri\u001b[0m\u001b[0;34m,\u001b[0m \u001b[0;34m**\u001b[0m\u001b[0mkw\u001b[0m\u001b[0;34m)\u001b[0m\u001b[0;34m\u001b[0m\u001b[0;34m\u001b[0m\u001b[0m\n\u001b[0m\u001b[1;32m    376\u001b[0m \u001b[0;34m\u001b[0m\u001b[0m\n\u001b[1;32m    377\u001b[0m         \u001b[0mredirect_location\u001b[0m \u001b[0;34m=\u001b[0m \u001b[0mredirect\u001b[0m \u001b[0;32mand\u001b[0m \u001b[0mresponse\u001b[0m\u001b[0;34m.\u001b[0m\u001b[0mget_redirect_location\u001b[0m\u001b[0;34m(\u001b[0m\u001b[0;34m)\u001b[0m\u001b[0;34m\u001b[0m\u001b[0;34m\u001b[0m\u001b[0m\n",
      "\u001b[0;32m/opt/miniconda3/lib/python3.9/site-packages/urllib3/connectionpool.py\u001b[0m in \u001b[0;36murlopen\u001b[0;34m(self, method, url, body, headers, retries, redirect, assert_same_host, timeout, pool_timeout, release_conn, chunked, body_pos, **response_kw)\u001b[0m\n\u001b[1;32m    697\u001b[0m \u001b[0;34m\u001b[0m\u001b[0m\n\u001b[1;32m    698\u001b[0m             \u001b[0;31m# Make the request on the httplib connection object.\u001b[0m\u001b[0;34m\u001b[0m\u001b[0;34m\u001b[0m\u001b[0;34m\u001b[0m\u001b[0m\n\u001b[0;32m--> 699\u001b[0;31m             httplib_response = self._make_request(\n\u001b[0m\u001b[1;32m    700\u001b[0m                 \u001b[0mconn\u001b[0m\u001b[0;34m,\u001b[0m\u001b[0;34m\u001b[0m\u001b[0;34m\u001b[0m\u001b[0m\n\u001b[1;32m    701\u001b[0m                 \u001b[0mmethod\u001b[0m\u001b[0;34m,\u001b[0m\u001b[0;34m\u001b[0m\u001b[0;34m\u001b[0m\u001b[0m\n",
      "\u001b[0;32m/opt/miniconda3/lib/python3.9/site-packages/urllib3/connectionpool.py\u001b[0m in \u001b[0;36m_make_request\u001b[0;34m(self, conn, method, url, timeout, chunked, **httplib_request_kw)\u001b[0m\n\u001b[1;32m    443\u001b[0m                     \u001b[0;31m# Python 3 (including for exceptions like SystemExit).\u001b[0m\u001b[0;34m\u001b[0m\u001b[0;34m\u001b[0m\u001b[0;34m\u001b[0m\u001b[0m\n\u001b[1;32m    444\u001b[0m                     \u001b[0;31m# Otherwise it looks like a bug in the code.\u001b[0m\u001b[0;34m\u001b[0m\u001b[0;34m\u001b[0m\u001b[0;34m\u001b[0m\u001b[0m\n\u001b[0;32m--> 445\u001b[0;31m                     \u001b[0msix\u001b[0m\u001b[0;34m.\u001b[0m\u001b[0mraise_from\u001b[0m\u001b[0;34m(\u001b[0m\u001b[0me\u001b[0m\u001b[0;34m,\u001b[0m \u001b[0;32mNone\u001b[0m\u001b[0;34m)\u001b[0m\u001b[0;34m\u001b[0m\u001b[0;34m\u001b[0m\u001b[0m\n\u001b[0m\u001b[1;32m    446\u001b[0m         \u001b[0;32mexcept\u001b[0m \u001b[0;34m(\u001b[0m\u001b[0mSocketTimeout\u001b[0m\u001b[0;34m,\u001b[0m \u001b[0mBaseSSLError\u001b[0m\u001b[0;34m,\u001b[0m \u001b[0mSocketError\u001b[0m\u001b[0;34m)\u001b[0m \u001b[0;32mas\u001b[0m \u001b[0me\u001b[0m\u001b[0;34m:\u001b[0m\u001b[0;34m\u001b[0m\u001b[0;34m\u001b[0m\u001b[0m\n\u001b[1;32m    447\u001b[0m             \u001b[0mself\u001b[0m\u001b[0;34m.\u001b[0m\u001b[0m_raise_timeout\u001b[0m\u001b[0;34m(\u001b[0m\u001b[0merr\u001b[0m\u001b[0;34m=\u001b[0m\u001b[0me\u001b[0m\u001b[0;34m,\u001b[0m \u001b[0murl\u001b[0m\u001b[0;34m=\u001b[0m\u001b[0murl\u001b[0m\u001b[0;34m,\u001b[0m \u001b[0mtimeout_value\u001b[0m\u001b[0;34m=\u001b[0m\u001b[0mread_timeout\u001b[0m\u001b[0;34m)\u001b[0m\u001b[0;34m\u001b[0m\u001b[0;34m\u001b[0m\u001b[0m\n",
      "\u001b[0;32m/opt/miniconda3/lib/python3.9/site-packages/urllib3/packages/six.py\u001b[0m in \u001b[0;36mraise_from\u001b[0;34m(value, from_value)\u001b[0m\n",
      "\u001b[0;32m/opt/miniconda3/lib/python3.9/site-packages/urllib3/connectionpool.py\u001b[0m in \u001b[0;36m_make_request\u001b[0;34m(self, conn, method, url, timeout, chunked, **httplib_request_kw)\u001b[0m\n\u001b[1;32m    438\u001b[0m                 \u001b[0;31m# Python 3\u001b[0m\u001b[0;34m\u001b[0m\u001b[0;34m\u001b[0m\u001b[0;34m\u001b[0m\u001b[0m\n\u001b[1;32m    439\u001b[0m                 \u001b[0;32mtry\u001b[0m\u001b[0;34m:\u001b[0m\u001b[0;34m\u001b[0m\u001b[0;34m\u001b[0m\u001b[0m\n\u001b[0;32m--> 440\u001b[0;31m                     \u001b[0mhttplib_response\u001b[0m \u001b[0;34m=\u001b[0m \u001b[0mconn\u001b[0m\u001b[0;34m.\u001b[0m\u001b[0mgetresponse\u001b[0m\u001b[0;34m(\u001b[0m\u001b[0;34m)\u001b[0m\u001b[0;34m\u001b[0m\u001b[0;34m\u001b[0m\u001b[0m\n\u001b[0m\u001b[1;32m    441\u001b[0m                 \u001b[0;32mexcept\u001b[0m \u001b[0mBaseException\u001b[0m \u001b[0;32mas\u001b[0m \u001b[0me\u001b[0m\u001b[0;34m:\u001b[0m\u001b[0;34m\u001b[0m\u001b[0;34m\u001b[0m\u001b[0m\n\u001b[1;32m    442\u001b[0m                     \u001b[0;31m# Remove the TypeError from the exception chain in\u001b[0m\u001b[0;34m\u001b[0m\u001b[0;34m\u001b[0m\u001b[0;34m\u001b[0m\u001b[0m\n",
      "\u001b[0;32m/opt/miniconda3/lib/python3.9/http/client.py\u001b[0m in \u001b[0;36mgetresponse\u001b[0;34m(self)\u001b[0m\n\u001b[1;32m   1345\u001b[0m         \u001b[0;32mtry\u001b[0m\u001b[0;34m:\u001b[0m\u001b[0;34m\u001b[0m\u001b[0;34m\u001b[0m\u001b[0m\n\u001b[1;32m   1346\u001b[0m             \u001b[0;32mtry\u001b[0m\u001b[0;34m:\u001b[0m\u001b[0;34m\u001b[0m\u001b[0;34m\u001b[0m\u001b[0m\n\u001b[0;32m-> 1347\u001b[0;31m                 \u001b[0mresponse\u001b[0m\u001b[0;34m.\u001b[0m\u001b[0mbegin\u001b[0m\u001b[0;34m(\u001b[0m\u001b[0;34m)\u001b[0m\u001b[0;34m\u001b[0m\u001b[0;34m\u001b[0m\u001b[0m\n\u001b[0m\u001b[1;32m   1348\u001b[0m             \u001b[0;32mexcept\u001b[0m \u001b[0mConnectionError\u001b[0m\u001b[0;34m:\u001b[0m\u001b[0;34m\u001b[0m\u001b[0;34m\u001b[0m\u001b[0m\n\u001b[1;32m   1349\u001b[0m                 \u001b[0mself\u001b[0m\u001b[0;34m.\u001b[0m\u001b[0mclose\u001b[0m\u001b[0;34m(\u001b[0m\u001b[0;34m)\u001b[0m\u001b[0;34m\u001b[0m\u001b[0;34m\u001b[0m\u001b[0m\n",
      "\u001b[0;32m/opt/miniconda3/lib/python3.9/http/client.py\u001b[0m in \u001b[0;36mbegin\u001b[0;34m(self)\u001b[0m\n\u001b[1;32m    305\u001b[0m         \u001b[0;31m# read until we get a non-100 response\u001b[0m\u001b[0;34m\u001b[0m\u001b[0;34m\u001b[0m\u001b[0;34m\u001b[0m\u001b[0m\n\u001b[1;32m    306\u001b[0m         \u001b[0;32mwhile\u001b[0m \u001b[0;32mTrue\u001b[0m\u001b[0;34m:\u001b[0m\u001b[0;34m\u001b[0m\u001b[0;34m\u001b[0m\u001b[0m\n\u001b[0;32m--> 307\u001b[0;31m             \u001b[0mversion\u001b[0m\u001b[0;34m,\u001b[0m \u001b[0mstatus\u001b[0m\u001b[0;34m,\u001b[0m \u001b[0mreason\u001b[0m \u001b[0;34m=\u001b[0m \u001b[0mself\u001b[0m\u001b[0;34m.\u001b[0m\u001b[0m_read_status\u001b[0m\u001b[0;34m(\u001b[0m\u001b[0;34m)\u001b[0m\u001b[0;34m\u001b[0m\u001b[0;34m\u001b[0m\u001b[0m\n\u001b[0m\u001b[1;32m    308\u001b[0m             \u001b[0;32mif\u001b[0m \u001b[0mstatus\u001b[0m \u001b[0;34m!=\u001b[0m \u001b[0mCONTINUE\u001b[0m\u001b[0;34m:\u001b[0m\u001b[0;34m\u001b[0m\u001b[0;34m\u001b[0m\u001b[0m\n\u001b[1;32m    309\u001b[0m                 \u001b[0;32mbreak\u001b[0m\u001b[0;34m\u001b[0m\u001b[0;34m\u001b[0m\u001b[0m\n",
      "\u001b[0;32m/opt/miniconda3/lib/python3.9/http/client.py\u001b[0m in \u001b[0;36m_read_status\u001b[0;34m(self)\u001b[0m\n\u001b[1;32m    266\u001b[0m \u001b[0;34m\u001b[0m\u001b[0m\n\u001b[1;32m    267\u001b[0m     \u001b[0;32mdef\u001b[0m \u001b[0m_read_status\u001b[0m\u001b[0;34m(\u001b[0m\u001b[0mself\u001b[0m\u001b[0;34m)\u001b[0m\u001b[0;34m:\u001b[0m\u001b[0;34m\u001b[0m\u001b[0;34m\u001b[0m\u001b[0m\n\u001b[0;32m--> 268\u001b[0;31m         \u001b[0mline\u001b[0m \u001b[0;34m=\u001b[0m \u001b[0mstr\u001b[0m\u001b[0;34m(\u001b[0m\u001b[0mself\u001b[0m\u001b[0;34m.\u001b[0m\u001b[0mfp\u001b[0m\u001b[0;34m.\u001b[0m\u001b[0mreadline\u001b[0m\u001b[0;34m(\u001b[0m\u001b[0m_MAXLINE\u001b[0m \u001b[0;34m+\u001b[0m \u001b[0;36m1\u001b[0m\u001b[0;34m)\u001b[0m\u001b[0;34m,\u001b[0m \u001b[0;34m\"iso-8859-1\"\u001b[0m\u001b[0;34m)\u001b[0m\u001b[0;34m\u001b[0m\u001b[0;34m\u001b[0m\u001b[0m\n\u001b[0m\u001b[1;32m    269\u001b[0m         \u001b[0;32mif\u001b[0m \u001b[0mlen\u001b[0m\u001b[0;34m(\u001b[0m\u001b[0mline\u001b[0m\u001b[0;34m)\u001b[0m \u001b[0;34m>\u001b[0m \u001b[0m_MAXLINE\u001b[0m\u001b[0;34m:\u001b[0m\u001b[0;34m\u001b[0m\u001b[0;34m\u001b[0m\u001b[0m\n\u001b[1;32m    270\u001b[0m             \u001b[0;32mraise\u001b[0m \u001b[0mLineTooLong\u001b[0m\u001b[0;34m(\u001b[0m\u001b[0;34m\"status line\"\u001b[0m\u001b[0;34m)\u001b[0m\u001b[0;34m\u001b[0m\u001b[0;34m\u001b[0m\u001b[0m\n",
      "\u001b[0;32m/opt/miniconda3/lib/python3.9/socket.py\u001b[0m in \u001b[0;36mreadinto\u001b[0;34m(self, b)\u001b[0m\n\u001b[1;32m    702\u001b[0m         \u001b[0;32mwhile\u001b[0m \u001b[0;32mTrue\u001b[0m\u001b[0;34m:\u001b[0m\u001b[0;34m\u001b[0m\u001b[0;34m\u001b[0m\u001b[0m\n\u001b[1;32m    703\u001b[0m             \u001b[0;32mtry\u001b[0m\u001b[0;34m:\u001b[0m\u001b[0;34m\u001b[0m\u001b[0;34m\u001b[0m\u001b[0m\n\u001b[0;32m--> 704\u001b[0;31m                 \u001b[0;32mreturn\u001b[0m \u001b[0mself\u001b[0m\u001b[0;34m.\u001b[0m\u001b[0m_sock\u001b[0m\u001b[0;34m.\u001b[0m\u001b[0mrecv_into\u001b[0m\u001b[0;34m(\u001b[0m\u001b[0mb\u001b[0m\u001b[0;34m)\u001b[0m\u001b[0;34m\u001b[0m\u001b[0;34m\u001b[0m\u001b[0m\n\u001b[0m\u001b[1;32m    705\u001b[0m             \u001b[0;32mexcept\u001b[0m \u001b[0mtimeout\u001b[0m\u001b[0;34m:\u001b[0m\u001b[0;34m\u001b[0m\u001b[0;34m\u001b[0m\u001b[0m\n\u001b[1;32m    706\u001b[0m                 \u001b[0mself\u001b[0m\u001b[0;34m.\u001b[0m\u001b[0m_timeout_occurred\u001b[0m \u001b[0;34m=\u001b[0m \u001b[0;32mTrue\u001b[0m\u001b[0;34m\u001b[0m\u001b[0;34m\u001b[0m\u001b[0m\n",
      "\u001b[0;31mKeyboardInterrupt\u001b[0m: "
     ]
    }
   ],
   "metadata": {}
  },
  {
   "cell_type": "code",
   "execution_count": 16,
>>>>>>> 008b1d266bc4dc23ee8ffc5ff2f7995e2c24d70c
   "source": [
    "import time\n",
    "def get_properties():\n",
    "\n",
    "    driver = load_and_accept_cookies()\n",
    "    \n",
    "    data = {\"sale_price\": [], \"num_bedrooms\": [], \"sqft\": [], \"description\": [], \"address\": []}\n",
<<<<<<< HEAD
    "    PROPERTY_BASE = \"//ul[@class='listing-results clearfix js-gtm-list']/li\"\n",
    "    \n",
    "    for i in range(1,num_to_get):\n",
    "\n",
    "        sleep(3)\n",
    "        \n",
    "        ## Find the price and append it to the dictionary\n",
    "        print(driver.find_elements_by_xpath(\"{}//a[@class='listing-results-price text-price']\".format(PROPERTY_BASE)))\n",
    "        price_elem = driver.find_elements_by_xpath(\"{}//a[@class='listing-results-price text-price']\".format(PROPERTY_BASE))[i]\n",
    "        data[\"sale_price\"].append(price_elem.text)\n",
    "\n",
    "        ## Find a link to click on\n",
    "        house_page = driver.find_elements_by_xpath(\"{}//a[@class='photo-hover']\".format(PROPERTY_BASE))[i].click()\n",
    "        \n",
    "        sleep(3)\n",
=======
    "    prop_container = driver.find_element_by_xpath('//div[@class=\"css-kdnpqc-ListingsContainer earci3d2\"]')\n",
    "    prop_list = prop_container.find_elements_by_xpath('./div')\n",
    "    num_props = len(prop_list)\n",
    "    for i in range(num_props):\n",
    "        house_list = driver.find_element_by_xpath('//*[@id=\"__next\"]/div[5]/div[2]/main/div[2]/div[2]')\n",
    "        house = house_list.find_elements_by_xpath('./div')[i]\n",
    "        '//*[@id=\"listing_59472554\"]/div/div[1]/div[2]/a[2]/div[1]/div/p[2]'\n",
    "        house.click()\n",
    "        time.sleep(5)\n",
>>>>>>> 008b1d266bc4dc23ee8ffc5ff2f7995e2c24d70c
    "        \n",
    "        ## Find the number of bedrooms and append it to the dictionary\n",
    "        price_elem = abstracasdsa\n",
    "        num_bed = asd\n",
    "        bedrooms_elem = cxzv\n",
    "        num_beds = cvxbb\n",
    "        data[\"sale_price\"].append(price_elem.text)\n",
    "        data[\"num_bedrooms\"].append(num_beds)\n",
    "\n",
    "        try:\n",
    "            ## Find the number of square footage and append it to the dictionary\n",
    "            sqft_elem = regdf\n",
    "            data[\"sqft\"].append(sqft_elem.text)\n",
    "        except:\n",
    "            data[\"sqft\"].append(\"None\")\n",
    "\n",
    "\n",
    "        ## Find the description and append it to the dictionary\n",
    "        description_elem = sdfgdg\n",
    "        data[\"description\"].append(description_elem.text)\n",
    "\n",
    "        ## Find the address\n",
    "        address_elem = dfhgb\n",
    "        data[\"address\"].append(address_elem.text)\n",
    "        # Go to the previous page\n",
    "        driver.back()\n",
    "\n",
    "    return data\n",
    "\n",
    "properties = get_properties()"
   ],
   "outputs": [
    {
     "output_type": "error",
     "ename": "NameError",
     "evalue": "name 'abstracasdsa' is not defined",
     "traceback": [
      "\u001b[0;31m---------------------------------------------------------------------------\u001b[0m",
      "\u001b[0;31mNameError\u001b[0m                                 Traceback (most recent call last)",
      "\u001b[0;32m<ipython-input-16-1c2e377862bc>\u001b[0m in \u001b[0;36m<module>\u001b[0;34m\u001b[0m\n\u001b[1;32m     42\u001b[0m     \u001b[0;32mreturn\u001b[0m \u001b[0mdata\u001b[0m\u001b[0;34m\u001b[0m\u001b[0;34m\u001b[0m\u001b[0m\n\u001b[1;32m     43\u001b[0m \u001b[0;34m\u001b[0m\u001b[0m\n\u001b[0;32m---> 44\u001b[0;31m \u001b[0mproperties\u001b[0m \u001b[0;34m=\u001b[0m \u001b[0mget_properties\u001b[0m\u001b[0;34m(\u001b[0m\u001b[0;34m)\u001b[0m\u001b[0;34m\u001b[0m\u001b[0;34m\u001b[0m\u001b[0m\n\u001b[0m",
      "\u001b[0;32m<ipython-input-16-1c2e377862bc>\u001b[0m in \u001b[0;36mget_properties\u001b[0;34m()\u001b[0m\n\u001b[1;32m     15\u001b[0m \u001b[0;34m\u001b[0m\u001b[0m\n\u001b[1;32m     16\u001b[0m         \u001b[0;31m## Find the number of bedrooms and append it to the dictionary\u001b[0m\u001b[0;34m\u001b[0m\u001b[0;34m\u001b[0m\u001b[0;34m\u001b[0m\u001b[0m\n\u001b[0;32m---> 17\u001b[0;31m         \u001b[0mprice_elem\u001b[0m \u001b[0;34m=\u001b[0m \u001b[0mabstracasdsa\u001b[0m\u001b[0;34m\u001b[0m\u001b[0;34m\u001b[0m\u001b[0m\n\u001b[0m\u001b[1;32m     18\u001b[0m         \u001b[0mnum_bed\u001b[0m \u001b[0;34m=\u001b[0m \u001b[0masd\u001b[0m\u001b[0;34m\u001b[0m\u001b[0;34m\u001b[0m\u001b[0m\n\u001b[1;32m     19\u001b[0m         \u001b[0mbedrooms_elem\u001b[0m \u001b[0;34m=\u001b[0m \u001b[0mcxzv\u001b[0m\u001b[0;34m\u001b[0m\u001b[0;34m\u001b[0m\u001b[0m\n",
      "\u001b[0;31mNameError\u001b[0m: name 'abstracasdsa' is not defined"
     ]
    }
   ],
   "metadata": {}
  },
  {
   "cell_type": "code",
<<<<<<< HEAD
   "execution_count": 45,
   "metadata": {
    "ExecuteTime": {
     "end_time": "2021-08-16T20:30:43.499853Z",
     "start_time": "2021-08-16T20:28:09.453922Z"
    }
   },
   "outputs": [],
=======
   "execution_count": null,
>>>>>>> 008b1d266bc4dc23ee8ffc5ff2f7995e2c24d70c
   "source": [
    "def load_and_accept_cookies():\n",
    "        \n",
    "    driver = webdriver.Chrome('chromedriver') \n",
    "    URL = \"https://www.zoopla.co.uk/new-homes/property/london/?q=London&results_sort=newest_listings&search_source=new-homes&page_size=25&pn=1&view_type=list\"\n",
    "    driver.get(URL)\n",
    "    accept_cookies = driver.find_elements_by_xpath('//button[@data-responsibility=\"acceptAll\"]')\n",
    "    for button in accept_cookies:\n",
    "        if button.text == \"Accept all cookies\":\n",
    "            relevant_button = button\n",
    "\n",
    "    relevant_button.click()\n",
    "    return driver\n",
    "\n",
    "def get_properties(num_to_get=2):\n",
    "\n",
    "    driver = load_and_accept_cookies()\n",
    "    \n",
    "    data = {\"sale_price\": [], \"num_bedrooms\": [], \"sqft\": [], \"description\": [], \"address\": []}\n",
    "    PROPERTY_BASE = '//div[@class=\"css-kdnpqc-ListingsContainer earci3d2\"]'\n",
    "    \n",
    "    #prop_container = driver.find_elements_by_xpath(PROPERTY_BASE)\n",
    "    #properties = prop_container.find_elements_by_xpath('./div')\n",
    "    prop_container = driver.find_element_by_xpath('//div[@class=\"css-kdnpqc-ListingsContainer earci3d2\"]')\n",
    "    properties = prop_container.find_elements_by_xpath('./div')\n",
    "    num_props = len(properties)\n",
    "    property1 = properties[0]\n",
    "    #print(driver.find_elements_by_xpath(\"{}//a[@class='listing-results-price text-price']\".format(PROPERTY_BASE)))\n",
    "    \n",
    "    for i in range(num_props):\n",
    "        time.sleep(2)\n",
    "        prop_container = driver.find_element_by_xpath('//div[@class=\"css-kdnpqc-ListingsContainer earci3d2\"]')\n",
    "        house = prop_container.find_elements_by_xpath('./div')[i]\n",
    "        house.click()\n",
    "        time.sleep(2)\n",
    "        bedrooms_elem = driver.find_element_by_xpath('//*[@id=\"main-content\"]/div[1]/div[1]/section[1]/div[2]/div/div[1]/span')\n",
    "        num_beds = bedrooms_elem.text[:-9] # \" bedrooms\" is 9 chars\n",
    "        data[\"num_bedrooms\"].append(num_beds)\n",
    "\n",
    "        try:\n",
    "            ## Find the number of square footage and append it to the dictionary\n",
    "            sqft_elem = driver.find_element_by_xpath(\"//*[name()='svg' and @class='ui-icon icon-area']/following-sibling::span\")\n",
    "            data[\"sqft\"].append(sqft_elem.text)\n",
    "        except:\n",
    "            data[\"sqft\"].append(\"None\")\n",
    "\n",
    "\n",
    "        ## Find the description and append it to the dictionary\n",
    "        description_elem = driver.find_element_by_xpath('//*[@id=\"main-content\"]/div[1]/section[3]/div[2]')\n",
    "        data[\"description\"].append(description_elem.text)\n",
    "\n",
    "        ## Find the address\n",
    "        address_elem = driver.find_element_by_xpath('//*[@id=\"listing-summary-details-heading\"]/span[2]')\n",
    "        data[\"address\"].append(address_elem.text)\n",
    "\n",
    "        \n",
    "        driver.back()\n",
    "        \n",
    "\n",
    "        \n",
    "    return data\n",
    "\n",
    "properties = get_properties()"
   ]
  },
  {
   "cell_type": "code",
   "execution_count": 47,
   "metadata": {
    "ExecuteTime": {
     "end_time": "2021-08-16T20:31:11.481658Z",
     "start_time": "2021-08-16T20:31:11.474450Z"
    }
   },
   "outputs": [
    {
     "name": "stdout",
     "output_type": "stream",
     "text": [
      "{'sale_price': [], 'num_bedrooms': ['', '', '', '', '', '', '', '', '', '', '', '', '', '', '', '', '', '', '', '', '', '', '', '', ''], 'sqft': ['None', 'None', 'None', 'None', 'None', 'None', 'None', 'None', 'None', 'None', 'None', 'None', 'None', 'None', 'None', 'None', 'None', 'None', 'None', 'None', 'None', 'None', 'None', 'None', 'None'], 'description': ['A cosy one bedroom apartment on the seventh floor of a well managed block on Sloane Avenue.\\n\\nThe flat is South facing and boasts plenty of natural light and roof top views across the Chelsea skyline. The flat has been refurbished throughout in neutral colours and would make an ideal pied-a-terre or rental investment.\\n\\nThe flat extends to 368sq/ft (34 sqm) and consists of an entrance hallway with built-in storage, double bedroom with en-suite bathroom, \"L\" shaped living room with dining area and well-equipped integrated kitchen.\\n\\nChelsea Cloisters is located on Sloane Avenue in the heart of Chelsea and is ideally situated for the many shops and restaurants of the Kings Road and Sloane Square. There is also a local supermarket next door and secure underground parking available below the building (by separate negotiation). The nearest underground stations are at Sloane Square (District and Circle lines) and South Kensington (District, Circle and Piccadilly lines).\\nSee full description', 'A stunning ground floor brand new two bedroom apartment circa 914 sqft which comprises spacious open plan kitchen/living area with door opening onto a private patio, master bedroom with en suite shower room, additional bedroom and family bathroom. There is also an allocated parking space.\\n\\nCena House is a stunning and luxurious brand new development of only seven high specification apartments situated in a popular, leafy tree lined road in Kenley close to the railway station providing access into Central London and Croydon. The apartments have been carefully and skilfully designed for modern and contemporary living and benefit from stunning two tone fitted kitchens with integrated appliances, quartz work surfaces, elegant bathroom suites, outside space, landscaped communal grounds, en suite facilities and private parking. Kenley is located South of Croydon and falls into the London Borough of Croydon but is close to the border of Tandridge where town meets Countrywide with it open green spaces and woodland and also has easy access into Central Croydon and to the M25 motorway via the A23. There are a variety of bus routes servicing the area. A truly fantastic place to reside and viewing is a must.\\n\\n• Two Bedroom Ground Floor Apartment\\n• Brand new Development\\n• Private Terrace\\n• Two bathrooms\\n• Private parking\\n• Help to buy available\\nSee full description', \"Move in now! Stunning & spacious duplex apartment with a private terrace with stunning views over the Central Park gardens. Take advantage of the stamp duty holiday.\\n\\nLocation\\n\\n0.3 miles to Mill Hill East Station (Northern Line)\\n\\nSurrounded by woods and parkland, Mill Hill's tree-lined avenues and quaint village high street are almost at odds with the ease at which you can reach Central London. Yet everything you need is close to hand.\\n\\nFor your essentials, there's a Waitrose just by Mill East station. While Mill Hill Broadway's shops, restaurants and cafés are just a short drive. As is Brent Cross Shopping Centre.\\n\\nAs well as a relaxed ambience, the wealth of open space offers lots of possibilities for your leisure time. Finchley Golf Club is just moments away. A host of others aren't much further.\\n\\nAdd to this, equestrian centres, the Welsh Harp Reservoir's watersports, rambling walks and great country pubs – if you prefer to admire greenery over a Sunday roast– and life here is most definitely for living.\\n\\n\\n\\nPlease book your viewing on for more information regarding this stunning apartment all ready to move in to now.\\n\\nThis spacious two bedroom duplex apartment of this brand new development in Millbrook Park, Mill Hill East iis reached via an impressive double height entrance lobby with access to the residents private garden.\\n\\nWalking through the elegant double doors into the south facing living area the space is flooded with light thanks to the floor to ceiling windows and private large terrace which is perfect for alfresco dining in the warmer months.\\n\\nThe kitchen has bespoke cabinetry, handle-less soft close doors along with integrated appliances, including oven, dishwasher, refrigerator and freezer.\\n\\n- Millbrook Park offers a unique opportunity to develop over 33.6 hectares and transform the area into a thriving new hilltop community.\\n\\n- The Millbrook Park masterplan offers over 2,000 homes, as well as a new primary school, six hectares of open space, a retail hub and a wave of investment in local transport.\\n\\n- The Claves is an exclusive development that has a striking collection of 1 and 2 bedroom apartments, truly the crowning glory in Millbrook Park.\\n\\n- Passionate design, fine materials and precise engineering come together to create exquisite, contemporary living spaces.\\n\\n- Comfort Cooling and underfloor heating throughout.\\n\\n- Floor-to-ceiling glazed windows with balconies for every apartment.\\n\\n- Residents' 7 day Concierge service, Gymnasium, Lounge, Screening Room & Games Room (to be implemented in phase 2)\\n\\n- Multiple Residents' Gardens.\\n\\n- Underground parking included.\\n\\nExcellent transport links with Mill hill East Underground station on your doorstep, the Overground a quick drive, as well as buses going to many different locations means nothing is very far away.\\n\\nA short distance away we have a multitude of sporting clubs, including Saracens Rugby Club, multiple golf clubs and an equestrian centre, to name but a few. For a change of pace there are a selection of charming pubs, perfect for those lazy Sunday meals, and walking trails that can take you through the picturesque greenbelt.\\n\\nGet in touch to arrange your private viewing of our selection of show apartments. The Marketing suite is open seven days a week, Monday to Saturday from 10am to 5:30pm and Sundays 10am to 5pm.\\n\\nSquare Footage: 1372 sq ft\\n\\nLeasehold with approximately 995 years remaining\\nSee full description\", 'Hendon Waterside is a beautiful collection of new homes located next to the Welsh Harp Reservoir. Thirty acres of land are being developed to include homes, parks and amenities set within beautiful surroundings.\\n\\nThe beautiful green open spaces and leisure pursuits of The Welsh Harp are on the doorstep and the fantastic shops of Brent Cross Shopping Centre are moments away.\\nSee full description', '2 bedroom apartment situated on the 1st floor of a dual-aspect style building. The apartment benefits from 24/7 concierge service, underground parking and communal gardens. Comprising of 2 double bedrooms, one with en suite bathroom and fitted wardrobes, additional bathroom, open plan kitchen/ reception room leading to a stunning balcony view of the river. To add to the apartment benefits is an exceptional quality underfloor heating.\\n\\nThis apartment is within a walking distance away from Parsons Green Station and the River Thames.\\nSee full description', 'Bexley is a suburb of south-east London and part of the London Borough of Bexley. It is located 13 miles (21 km) east-southeast of Charing Cross and south of Bexleyheath. It was an ancient parish in the county of Kent. As part of the suburban growth of London in the 20th century, Bexley increased in population, becoming a municipal borough in 1935 and has formed part of Greater London since 1965. Bexley benefits from good road links, being situated just off the A2, a major arterial route into and out of London. Heading south-east, the A2 leads to the M25 motorway, Dover and Folkestone.\\n\\nThe property development is located south of Bexley High Street and to the north of the railway line. Within a 2-minute walking distance to the overground train station with travel links to Charing Cross and Victoria Station, approximately 0.1 miles. The property development is located close to the A2, with Blackwall Tunnel and Dartford Tunnel within 20 minutes of travel.\\n\\nBexley has a fairly basic retail offering including convenience stores, independent retailers, pubs and restaurants. More extensive retail amenities can be found at the Bluewater Shopping Centre, which is around five miles to the east. The commercial centres of Dartford and Bromley are also in the vicinity. Schools, such as Old Bexley C of E Primary school, which is approximately 0.4 miles, a total of 8 minutes walking distance, or Beths Grammar School, which is a walking distance of 17 minutes, approximately 0.9 miles away.\\n\\nThe townhouses will be located to the eastern side of the site, with the terrace having a north-south orientation. The rear gardens will therefore border the public car park and the front of the houses will face the centre of the site. The terrace is part three storeys and part four storeys in height. The two end units are three storeys in height and the middle four units are four storeys. Each house has a private rear garden and an allocated parking space to the front.\\n\\nFor Sale is unit 1... The end houses (1 & 6) have identical accommodation which includes ground floor side entrances, a kitchen, dining room, cloakroom and a cycle storage room. The first floor accommodation comprises a living room, a double bedroom and a bathroom. The second floor accommodation comprises a further two double bedrooms, each with an en suite shower room. The rear second floor bedroom benefits from a rear facing roof terrace. These houses thus have three bedrooms, three bathrooms and a cloakroom.\\nSee full description', 'Icon Estates are delighted to offer for sale this four-bedroom terraced house.\\nThe property is located in the very popular location of Leyton.\\nThis property offers great size throughout and has through lounge, 4 bedrooms, dining room / kitchen, 1 family bathroom, 1WC, partially paved garden and a conservatory. This property is suitable for a family, investors or first-time buyers. It is close to all local amenities including schools, parks and shops.\\n\\nBedroom 1 - 3.82m x 3.44m (12\\'53\" x 11\\'29\")\\nBedroom 2 - 2.25m x 3.95m (7\\'38\" x 12\\'96\")\\nBedroom 3 - 3.83m x 2.27m (12\\'57\" x 7\\'45\")\\nBedroom 4 - 3.83m x 2.85m (12\\'57\" x 9\\'35\")\\nKitchen - 3.99m x 2.71m (13\\'1\" x 8\\'89\")\\nLiving / Dining Room - 3.45m x 3.85m (11\\'32\" x 12\\'63\")\\nBathroom - 1.48m x 2.38m (4\\'86\" x 7\\'81\")\\n- 0.84m x 1.54m (2\\'76\" x 5\\'05\")\\n\\nGarden - Partially paved garden at the back.\\n\\nDisclaimer:\\n\\nThe information provided about this property does not constitute or form part of any offer or contract, nor may it be relied upon as representations or statements of fact. All measurements are approximate and should be used as a guide only. Any systems, services or appliances listed herein have not been tested by us and therefore we cannot verify or guarantee they are in working order. Details of planning and building regulations for any works carried out on the property should be specifically verified by the purchasers’ conveyancer or solicitor, as should tenure/lease information (where appropriate)\\nSee full description', 'Iconic. The arc. We at Oaks Estate Agents are absolutely thrilled to market such an exclusive and exciting development situated in the very heart of thriving and vibrant Wallington.\\n\\nFinished flawlessly to the highest specification, The arc is designed to provide luxurious living to any aspiring homeowner.\\n\\nDesigned with both modern day living and functionality in mind, Flat 7 benefits from an impressive 559 sq. Ft. Of living space and is situated on the third floor of this special development.\\n\\nLight and airy throughout, the property briefly comprises; spacious reception room with amazing floor to ceiling windows and private balcony, modern fitted kitchen, double bedrooms and contemporary three piece bathroom suite.\\n\\nThe kitchen is fitted with Bosch integrated ovens, microwaves, ceramic hobs and extractor fans. The worktops are Quartz and both the fridge freezers and dishwasher are Indesit.\\n\\nIn the bathrooms, there is Saneux bath with shower screen and chrome overflow waste, Grohe bath spout, head and hand shower with 3-way diverter, Saneux basin, white gloss vanity unit plus chrome electric towel rail.\\n\\nThe apartment is pre-wired for Sky Q, Virgin and BT and further benefits from underfloor heating controlled via thermostatic and a Worchester Bosch combi boiler.\\n\\nA full colour video entry system complete with remote door release and intercom system is also included and so is a 10 year building warranty and a 125 year lease.\\n\\nWallington station is within strolling distance making the property ideal for any commuters requiring access into The City due to the direct links into both London Victoria and London Bridge.\\n\\nWoodcote Road is nearby and home to a wide array of very popular amenities including restaurants, cafes and supermarkets.\\n\\nThere are a number of local parks and open recreational spaces at neighbouring Mellows Park and Carshalton Park, both of which provide a peaceful and scenic place to exercise, wander and relax.\\n\\nWe thoroughly recommend an internal viewing to appreciate these stunning apartments.\\nSee full description', 'This beautifully designed 3 bedroom apartment is positioned on the 1st floor at Ram Quarter.\\n\\nLocation\\n\\nRam Quarter is located in the heart of Wandsworth, one of south west London\\'s most desirable locations. With Wandsworth Town train station just 480 metres away, The Ram Quarter is ideally located for ease of access to central London.\\n\\nAs well as proving a range of restaurants, cafes and shops at The Ram Quarter, those living there will be able to enjoy the wide range of shops at the newly extended Southside Shopping Centre opposite.\\n\\nDescription\\n\\nRam Quarter is the rebirth of the former Youngs Brewery, in the heart of Wandsworth. This well known site has been brewing beer since 1581, with the new development featuring a micro brewery. Additionally the site had the Surrey Iron Railway passing through, and the original sleepers will be maintained as part of the development.\\n\\nRam Quarter, features a mix of light and spacious apartments, from studios to 4 bedrooms, many with balconies and views of the River Wandle. The scheme has been designed by the award winning architects epr, with the interiors designed by award winning Project Orange.\\n\\nThe ground floor of the apartment buildings feature a mix of restaurants, cafes and shops together with dynamic public realm. Brands include London Stock, Story Coffee, More Yoga and Kido.\\n\\nA development by Fortune 500 company Greenland Group, who develop major residential and commercial developments across the globe.\\n\\nAwards\\nwinner of premier guarantee\\'s excellence award: \"conversion / refurbishment project of the year\" 2018\\n\\nwinner of the chartered association of building engineers \"preservation and conservation award\" 2019\\n\\nSquare Footage: 1000 sq ft\\n\\nLeasehold with approximately 992 years remaining\\nSee full description', 'Speak to one of our advisors Today about Stamp Duty and Parking Incentives.\\n\\n*** shared ownership available***\\n\\nA Stunning Brand New 2 Bedroom Shared Ownership Flat available in Southall. This second floor flat has a spacious open plan living room and kitchen, perfect for entertaining friends and family. The flat has a contemporary and stylish bespoke kitchen by magnet. Each kitchen has been designed for each individual apartment. The kitchen has white gloss kitchen cabinets and energy efficient integrated appliances.\\nThe bathroom is elegant and modern. Each Bathroom features rak washbasins, chrome Crosswater mixer taps and valves. As well as Hansgrohe overhead showers, vado hand showers and soft closing toilets.\\n\\nThe development has a communal garden located on the first floor. As well as a balcony for each flat. There is also a lift for accessibility.\\n\\nDover Court is located within walking distance to Southall Station. With the new cross rail station opening in Southall, it will be easier and quicker to get to Central London and Berkshire. The trains to London Paddington take approximately 17 minutes from Southall Station. As well as great access to the M4, M25 and M40.\\n\\n***minimum share of 40% available***\\n\\n****show home now open. Book your appointment today.****\\n\\n**The information is indicative and is intended to act as a guide only as to the finished product. These particulars should not be relied upon as accurately describing any of the specific matters described by any order under the Property Misdescriptions Act 1991. This information does not constitute a contract, or warranty. The dimensions given on plans are subject to minor variations and are not intended to be used for carpet sizes, appliance sizes or items of furniture. Photography & CGIs are indicative only. Travel times are approximates only.**\\nSee full description', 'This beautifully designed 3 bedroom apartment is positioned on the 6th floor at Ram Quarter.\\n\\nLocation\\n\\nRam Quarter is located in the heart of Wandsworth, one of south west London\\'s most desirable locations. With Wandsworth Town train station just 480 metres away, The Ram Quarter is ideally located for ease of access to central London.\\n\\nAs well as proving a range of restaurants, cafes and shops at The Ram Quarter, those living there will be able to enjoy the wide range of shops at the newly extended Southside Shopping Centre opposite.\\n\\nDescription\\n\\nRam Quarter is the rebirth of the former Youngs Brewery, in the heart of Wandsworth. This well known site has been brewing beer since 1581, with the new development featuring a micro brewery. Additionally the site had the Surrey Iron Railway passing through, and the original sleepers will be maintained as part of the development.\\n\\nRam Quarter, features a mix of light and spacious apartments, from studios to 4 bedrooms, many with balconies and views of the River Wandle. The scheme has been designed by the award winning architects epr, with the interiors designed by award winning Project Orange.\\n\\nThe ground floor of the apartment buildings feature a mix of restaurants, cafes and shops together with dynamic public realm. Brands include London Stock, Story Coffee, More Yoga and Kido.\\n\\nA development by Fortune 500 company Greenland Group, who develop major residential and commercial developments across the globe.\\n\\nAwards\\nwinner of premier guarantee\\'s excellence award: \"conversion / refurbishment project of the year\" 2018\\n\\nwinner of the chartered association of building engineers \"preservation and conservation award\" 2019\\n\\nSquare Footage: 1098 sq ft\\n\\nLeasehold with approximately 992 years remaining\\nSee full description', \"This delightful 29th floor 2 bedroom apartment consists of approximately 1207 square feet and has South-facing floor to ceiling windows which provide complimentary views of the city throughout. This apartment benefits from a private sky garden, integrated kitchen and free standing island/breakfast bar. The Master suite is complete with dressing area, as well as secondary access in to the sky garden. There is also a further guest/ 2nd bathroom and a 2nd bedroom with fitted wardrobes.\\n\\nThe development boasts a luxury spa, gym and pool, residents' cinema and 24 hour concierge. In addition to this there is one of the highest residential sky gardens in London with extraordinary City views to be found on the 10th Floor. Residents can take advantage of booking the private lounge areas or meeting spaces for events and guests.\\n\\nSouthbank Tower puts you at the very heart of all that this vibrant area has to offer conveniently located for the City (0.5 miles from Blackfriars), and within easy reach of Waterloo (0.4 miles) and Southwark Station (0.4 miles). Whether on foot, by road, or rail, the rest of the capital and beyond is within easy reach, including City Airport in just 35 minutes by rail which facilitates fast and convenient European travel.\\nSee full description\", 'This beautifully designed 3 bedroom apartment is positioned on the 6th floor at Ram Quarter.\\n\\nLocation\\n\\nRam Quarter is located in the heart of Wandsworth, one of south west London\\'s most desirable locations. With Wandsworth Town train station just 480 metres away, The Ram Quarter is ideally located for ease of access to central London.\\n\\nAs well as proving a range of restaurants, cafes and shops at The Ram Quarter, those living there will be able to enjoy the wide range of shops at the newly extended Southside Shopping Centre opposite.\\n\\nDescription\\n\\nRam Quarter is the rebirth of the former Youngs Brewery, in the heart of Wandsworth. This well known site has been brewing beer since 1581, with the new development featuring a micro brewery. Additionally the site had the Surrey Iron Railway passing through, and the original sleepers will be maintained as part of the development.\\n\\nRam Quarter, features a mix of light and spacious apartments, from studios to 4 bedrooms, many with balconies and views of the River Wandle. The scheme has been designed by the award winning architects epr, with the interiors designed by award winning Project Orange.\\n\\nThe ground floor of the apartment buildings feature a mix of restaurants, cafes and shops together with dynamic public realm. Brands include London Stock, Story Coffee, More Yoga and Kido.\\n\\nA development by Fortune 500 company Greenland Group, who develop major residential and commercial developments across the globe.\\n\\nAwards\\nwinner of premier guarantee\\'s excellence award: \"conversion / refurbishment project of the year\" 2018\\n\\nwinner of the chartered association of building engineers \"preservation and conservation award\" 2019\\n\\nSquare Footage: 1098 sq ft\\n\\nLeasehold with approximately 992 years remaining\\nSee full description', \"Off plan - Vanquish Real Estate is delighted to offer this exquisite one-bedroom, one bathroom apartment with a stunning West aspect and a balcony spread across 549 sqft.\\n\\nThis spacious one-bedroom, one bathroom apartment is located in the leading development in The Green Quarter, Southall.\\n\\nno ordinary place to live. Here, you will enjoy the benefits of modern urban living in a truly remarkable setting, with nature at its very heart.\\n\\nThe transformation of this former brownfield site is one of London's most ambitious regeneration projects and will create one of the most biodiverse neighbourhoods in the UK.\\n\\n\\n\\n\\n\\nis the latest addition to the transformation of this former brownfield site into one of the most biodiverse neighbourhoods in the UK.\\nApartment balconies overlook residents’ podium gardens and out across Central Gardens, the 4.5-acre landscaped park that is the focal point of The Green Quarter.\\n\\n\\n\\n\\n\\nCompletion: From February 2024\\nSee full description\", 'This two bedroom two bathroom apartment is positioned on the 5th floor of Drapers Yard at The Ram Quarter.\\n\\nLocation\\n\\nRam Quarter is located in the heart of Wandsworth, one of south west London\\'s most desirable locations. With Wandsworth Town train station just 480 metres away, The Ram Quarter is ideally located for ease of access to central London.\\n\\nAs well as proving a range of restaurants, cafes and shops at The Ram Quarter, those living there will be able to enjoy the wide range of shops at the newly extended Southside Shopping Centre opposite.\\n\\nDescription\\n\\nRam Quarter is the rebirth of the former Youngs Brewery, in the heart of Wandsworth. This well known site has been brewing beer since 1581, with the new development featuring a micro brewery. Additionally the site had the Surrey Iron Railway passing through, and the original sleepers will be maintained as part of the development.\\n\\nRam Quarter, features a mix of light and spacious apartments, from studios to 4 bedrooms, many with balconies and views of the River Wandle. The scheme has been designed by the award winning architects epr, with the interiors designed by award winning Project Orange.\\n\\nThe ground floor of the apartment buildings feature a mix of restaurants, cafes and shops together with dynamic public realm. Brands include London Stock, Story Coffee, More Yoga and Kido.\\n\\nA development by Fortune 500 company Greenland Group, who develop major residential and commercial developments across the globe.\\n\\nAwards\\nwinner of premier guarantee\\'s excellence award: \"conversion / refurbishment project of the year\" 2018\\n\\nwinner of the chartered association of building engineers \"preservation and conservation award\" 2019\\n\\nSquare Footage: 896 sq ft\\n\\nLeasehold with approximately 992 years remaining\\nSee full description', \"Off plan - Vanquish Real Estate is delighted to offer this exquisite 1 bedroom, 1 bathroom apartment with a stunning East aspect and a balcony spread across 599 sqft.\\n\\nThis spacious one-bedroom, one bathroom apartment is located in the leading development in The Green Quarter, Southall.\\n\\nno ordinary place to live. Here, you will enjoy the benefits of modern urban living in a truly remarkable setting, with nature at its very heart.\\n\\nThe transformation of this former brownfield site is one of London's most ambitious regeneration projects and will create one of the most biodiverse neighbourhoods in the UK.\\n\\n\\n\\n\\n\\nis the latest addition to the transformation of this former brownfield site into one of the most biodiverse neighbourhoods in the UK.\\nApartment balconies overlook residents’ podium gardens and out across Central Gardens, the 4.5-acre landscaped park that is the focal point of The Green Quarter.\\n\\n\\n\\n\\n\\nCompletion: From February 2024\\nSee full description\", 'Supremely spacious brand new 4/5/6 bed detached family home opposite nonsuch park\\n\\nClose to Stoneleigh shops, train station and opposite the beautiful, historic Nonsuch Park offering exceptionally spacious accommodation, is this stunning detached family home with every modern luxury convenience, completed to an exceptionally high standard throughout, offering flexible space with 4,5 or even 6 bedrooms or \"annexe\" use with a bedroom on the ground floor which can have its own lounge and kitchenette area if so required - this property simply has to be seen to be fully appreciated and we await your call\\nSee full description', \"A spacious, two-bedroom, duplex apartment with a study offering double height ceilings and 1,449 sq ft of well-appointed living space in magnificently restored Grade II listed Coopers' Lofts, Ram Quarter.\\n\\nRam Quarter is set in the grounds of the old Young’s Brewery in Wandsworth. The new development maintains the heritage by incorporating the brewery 2019s iconic listed buildings. The 3 phases of the mixed-use development are due to offer 713 apartments across 8 acres with the River Wandle flowing through the scheme. Phase 1 is now complete and ready for occupation.\\n\\nThere is a mixture of studios, one beds, two beds, three beds and four bed duplexes.\\n\\nResidents of Ram Quarter enjoy a 24-hour concierge service, private residents' garden and the use of the retail space located onsite.\\n\\nThe development is located near good transport links. Wandsworth Town station is 400m from the site, approx. 4-minute walk, and provides easily accessible and efficient service to London 2019;s mainline stations, the West End and the City, with journey times of 15 minutes on the overground to Waterloo station, 25 minutes to Oxford Circus, 30 minutes to Bank and 35 minutes to Canary Wharf.\\nSee full description\", \"Show Home Now Available to View!\\n\\nApartment 111 is one of the new 2 bedroom apartments in Calico House at St William's new Poplar Riverside Development. The apartment benefits from a private balcony with City views of Canary Wharf. This dual aspect apartment is located on the 5th floor and stretches across 696 sq ft of internal space. The apartment is set to be decorated in our neutral and sophisticated Winter colour palette with a large open plan kitchen/living area. Ample storage is provided with an additional utility cupboard with washer/dryer included. An en-suite will also be present and connected to the primary bedroom.\\n\\nPoplar Riverside is set to become one of East London's most vibrant neighborhoods. Located on the banks of the River Lea offering over 2,800 homes and a beautiful new 2.5 acre park within the Lower Lea Valley, which is currently undergoing rapid change. Over the next 20 years the combined effect of the new Lea River Park and 2012 Olympic Legacy will transform this area of East London.\\n\\nPerfectly located, bordering zones 2/3. By bicycle, Canning Town Underground station can be reached in 6 minutes and by foot in 14 minutes. East India Station can be reached by foot in 12 minutes ensuring you stay well connected to the rest of London.\\n\\nA vibrant riverside collection of suites, 1 bedroom and 2 bedroom apartments set within 4 acres of beautiful open space including a new 2.5 acre public park, 500m riverside walkway, connecting residents to the park, squares and beautiful gardens.\\n\\n*residents facilities - the riverside club*\\n\\n- 20m swimming pool\\n- Spa including sauna, steam and salt inhalation room\\n- Residents' lounge\\n- Residents' Den\\n- 13 seating cinema room\\n- Games Room\\n- Private meeting rooms\\n- The Workspace both shared and private booths for meetings and access to coffee bar\\n- Informal foyer\\n- 24hr concierge\\n\\nAnticipated completion Q3 2023 - Q1 2024\\n\\nFor more information please contact the Poplar Riverside Sales & Marketing Suite.\\n\\n*Computer Generated Images and Photography are Indicative only.\\nSee full description\", \"Off plan - Vanquish Real Estate is delighted to offer this exquisite 2 bedroom 2 bathroom apartment with stunning North West views located in the leading development in Chelsea Creek with an internal area of 848 sq. Ft.\\n\\nThe apartment boasts a bright living space with a sample of room for dining and benefits from access to a private terrace, stylish furnishings, and an exceptionally high-quality finish throughout. Highly specified interiors, including custom-designed shaker-style kitchens and bespoke bathrooms with porcelain floor and wall tiles.\\n\\nFacilities:\\n\\n\\n\\nis home to luxurious canal-side apartments that bring a characteristically European style of living to Central London. A stunning location with tree-lined avenues and meandering waterways offers a refreshingly unique urban lifestyle. Just moments from your doorstep you will find the local bars, restaurants, and cafes of Imperial Wharf and shop endlessly on the nearby King's Road, Sloane Street, or Westfield.\\n\\nTransportation:\\n\\n\\n\\n\\nSee full description\", \"An exclusive collection of Versace inspired lifestyle apartments set in a luxury development in Nine Elms, London SW8. This development represents the height of modern luxury in central London. The Tower offers spectacular views over the river and beyond, with famous landmarks such as the Houses of Parliament, Square Mile and The Shard.\\n\\nA luxury lifestyle development offering world-class amenities, including a gym and health & wellness centre set on the 23rd and 24th floors. Additionally, residents benefit from over 8,000sqft of gardens, children's play areas and parking facilities. Housekeeping is also available on request.\\n\\nThe damac Tower Nine Elms London is nestled between Vauxhall and Battersea, where a multi-billion pound investment is dramatically transforming the area into an ultra-modern residential and internationally significant business district, set to become a new centre for arts and culture in the capital.\\n\\nThe area is close to the Vauxhall Cross rail and bus stations as well as the Underground. In addition, the new Northern Line extension and the Crossrail project are set to further increase transport links with the rest of London.\\nSee full description\", \"Help to buy - Vanquish Real Estate is delighted to offer this exquisite 1 bedroom 1 bathroom apartment with stunning North and East views with a stunning balcony.\\n\\nThis spacious one bedroom, one bathroom apartment is located in the Building 10 of the leading Royal Arsenal Riverside Development.\\n\\nThe apartment boasts a bright living space with a sample of room for dining and benefits from access to a private terrace, fully integrated kitchen, built-in wardrobes, stylish furnishings and an exceptionally high quality finish throughout.\\n\\nEvery element of these interiors has been curated to evoke a timeless elegance.\\n\\nFrom the contrast between the soft colour palette and rich, dark finishes to the choice of futures and fittings, these apartments are designed to capture the essence of modern living.\\n\\nRoyal Arsenal Riverside is one of South East London's most exciting riverside addresses, sitting at the heart of Woolwich, which is rapidly emerging as one of London's bright spots; occupying prime location along the River Thames and offering a buzzing retail hub.\\n\\nFeatures\\n\\n\\n\\n\\n\\n\\n\\n\\n\\n\\n\\n\\n\\n\\n\\n\\n\\n\\n\\nWith a forthcoming on-site Crossrail station, an on-site Thames Clipper Pier, plus the National Rail and DLR stations only 300m away, Royal Arsenal Riverside is one of the best connected developments in South East London.\\n\\nTransportation:\\n\\n\\n\\n\\n\\n\\n\\n\\n\\n\\n\\n\\n\\n\\n\\nCompletion: May 2022 - June 2022\\n\\nDisclaimer : Photos are CGI's for marketing purposes only.\\nSee full description\", 'The building itself is constructed on the site of the original Star and Garter hotel, built in 1906 to provide accommodation and nursing facilities for 180 seriously injured servicemen.\\n\\nLocated on the top of Richmond Hill, flats in this building boast one of the most sought-after views in London, looking south-west over Petersham Common, the Thames Valley and beyond. Residents of the building are also within walking distance of the world-famous Richmond Park.\\n\\nThis apartment is finished to an exceptional standard throughout with unusually high ceilings throughout and is a one bedroom in the development with views of Richmond Park and the city. It comprises a double bedroom, spacious living area with a fully fitted kitchen, a storage area and a bathroom\\n\\nThe property benefits from top-class facilities in the calibre of a five-star hotel, including a leisure suite with a pool, spa and treatment room, cinema room, underground parking, Harrods concierge, a town car service, and access to beautiful communal gardens; providing residents with an incomparably luxurious lifestyle.\\nSee full description', \"A, two-bedroom apartment offering 1,058 sq ft of well-appointed living space in Wandle Gardens, Ram Quarter.\\n\\nRam Quarter is set in the grounds of the old Young’s Brewery in Wandsworth. The new development maintains the heritage by incorporating the brewery’s iconic listed buildings. The 3 phases of the mixed-use development are due to offer 713 apartments across 8 acres with the River Wandle flowing through the scheme. Phase 1 is now complete and ready for occupation.\\n\\nThere is a mixture of studios, one beds, two beds, three beds and four bed duplexes.\\n\\nResidents of Ram Quarter enjoy a 24-hour concierge service, private residents' garden and the use of the retail space located onsite.\\n\\nThe development is located near good transport links. Wandsworth Town station is 400m from the site, approx. 4-minute walk, and provides easily accessible and efficient service to London’s mainline stations, the West End and the City, with journey times of 15 minutes on the overground to Waterloo station, 25 minutes to Oxford Circus, 30 minutes to Bank and 35 minutes to Canary Wharf.\\nSee full description\", 'Beautifully crafted living spaces have been thoughtfully combined with a range of exclusive residents facilities.\\nBeautifully landscaped gardens.\\nDirect access to the retail and open spaces of the newly developed area'], 'address': ['Chelsea Cloisters, Sloane Avenue SW3', 'Cena House, 23 Park Road, Kenley CR8', 'The Claves, Millbrook Park, Mill Hill, London NW7', 'Hendon Waterside, Hendon NW9', 'Higham House West, 102 Carnwath Road, London SW6', 'Tanyard Lane, Bexley DA5', 'Walnut Road, Walthamstow E10', 'Manor Road, Wallington SM6', '3 Ryeland Boulevard, Wandsworth SW18', 'Dover Court, Southall UB2', '3 Ryeland Boulevard, Wandsworth SW18', 'Upper Ground, London SE1', '3 Ryeland Boulevard, Wandsworth SW18', 'The Harris, Southall, London UB1', '2 Drapers Yard, Wandsworth SW18', 'The Harris, Southall, London UB1', 'London Road, Stoneleigh KT17', '5 Bubbling Well Square, Wandsworth SW18', 'Leven Road, Poplar E14', 'Westwood House, Chelsea Creek, London SW6', 'Damac Tower, Nine Elms, London SW8', 'Building 10, Royal Arsenal Riverside, London SE18', 'Star &amp; Garter House, Richmond Hill, Richmond TW10', 'Boulevard, Wandsworth Town SW18', 'Gayton Road, Chesterton House, London HA1']}\n"
     ]
    }
   ],
   "source": [
    "print(properties)"
   ],
   "outputs": [],
   "metadata": {}
  },
  {
   "cell_type": "markdown",
   "source": [
    "### Challenge: Extend the function above to navigate to the next page and continue the data collection"
   ],
   "metadata": {}
  },
  {
   "cell_type": "code",
   "execution_count": null,
   "source": [
    "driver.quit()"
<<<<<<< HEAD
   ]
  },
  {
   "cell_type": "code",
   "execution_count": 38,
   "metadata": {
    "ExecuteTime": {
     "end_time": "2021-08-16T20:08:49.612967Z",
     "start_time": "2021-08-16T20:08:08.570087Z"
    }
   },
   "outputs": [
    {
     "ename": "NoSuchWindowException",
     "evalue": "Message: no such window: window was already closed\n  (Session info: chrome=92.0.4515.131)\n",
     "output_type": "error",
     "traceback": [
      "\u001b[0;31m---------------------------------------------------------------------------\u001b[0m",
      "\u001b[0;31mNoSuchWindowException\u001b[0m                     Traceback (most recent call last)",
      "\u001b[0;32m/var/folders/dn/_ysfbs6s2vz_pmnp3hg_bkgc0000gn/T/ipykernel_60544/3951379508.py\u001b[0m in \u001b[0;36m<module>\u001b[0;34m\u001b[0m\n\u001b[1;32m     17\u001b[0m     \u001b[0mhouse\u001b[0m\u001b[0;34m.\u001b[0m\u001b[0mclick\u001b[0m\u001b[0;34m(\u001b[0m\u001b[0;34m)\u001b[0m\u001b[0;34m\u001b[0m\u001b[0;34m\u001b[0m\u001b[0m\n\u001b[1;32m     18\u001b[0m     \u001b[0mtime\u001b[0m\u001b[0;34m.\u001b[0m\u001b[0msleep\u001b[0m\u001b[0;34m(\u001b[0m\u001b[0;36m5\u001b[0m\u001b[0;34m)\u001b[0m\u001b[0;34m\u001b[0m\u001b[0;34m\u001b[0m\u001b[0m\n\u001b[0;32m---> 19\u001b[0;31m     \u001b[0mdriver\u001b[0m\u001b[0;34m.\u001b[0m\u001b[0mback\u001b[0m\u001b[0;34m(\u001b[0m\u001b[0;34m)\u001b[0m\u001b[0;34m\u001b[0m\u001b[0;34m\u001b[0m\u001b[0m\n\u001b[0m\u001b[1;32m     20\u001b[0m     \u001b[0mtime\u001b[0m\u001b[0;34m.\u001b[0m\u001b[0msleep\u001b[0m\u001b[0;34m(\u001b[0m\u001b[0;36m1\u001b[0m\u001b[0;34m)\u001b[0m\u001b[0;34m\u001b[0m\u001b[0;34m\u001b[0m\u001b[0m\n",
      "\u001b[0;32m~/miniconda/envs/AiCore/lib/python3.9/site-packages/selenium/webdriver/remote/webdriver.py\u001b[0m in \u001b[0;36mback\u001b[0;34m(self)\u001b[0m\n\u001b[1;32m    811\u001b[0m             \u001b[0mdriver\u001b[0m\u001b[0;34m.\u001b[0m\u001b[0mback\u001b[0m\u001b[0;34m(\u001b[0m\u001b[0;34m)\u001b[0m\u001b[0;34m\u001b[0m\u001b[0;34m\u001b[0m\u001b[0m\n\u001b[1;32m    812\u001b[0m         \"\"\"\n\u001b[0;32m--> 813\u001b[0;31m         \u001b[0mself\u001b[0m\u001b[0;34m.\u001b[0m\u001b[0mexecute\u001b[0m\u001b[0;34m(\u001b[0m\u001b[0mCommand\u001b[0m\u001b[0;34m.\u001b[0m\u001b[0mGO_BACK\u001b[0m\u001b[0;34m)\u001b[0m\u001b[0;34m\u001b[0m\u001b[0;34m\u001b[0m\u001b[0m\n\u001b[0m\u001b[1;32m    814\u001b[0m \u001b[0;34m\u001b[0m\u001b[0m\n\u001b[1;32m    815\u001b[0m     \u001b[0;32mdef\u001b[0m \u001b[0mforward\u001b[0m\u001b[0;34m(\u001b[0m\u001b[0mself\u001b[0m\u001b[0;34m)\u001b[0m\u001b[0;34m:\u001b[0m\u001b[0;34m\u001b[0m\u001b[0;34m\u001b[0m\u001b[0m\n",
      "\u001b[0;32m~/miniconda/envs/AiCore/lib/python3.9/site-packages/selenium/webdriver/remote/webdriver.py\u001b[0m in \u001b[0;36mexecute\u001b[0;34m(self, driver_command, params)\u001b[0m\n\u001b[1;32m    319\u001b[0m         \u001b[0mresponse\u001b[0m \u001b[0;34m=\u001b[0m \u001b[0mself\u001b[0m\u001b[0;34m.\u001b[0m\u001b[0mcommand_executor\u001b[0m\u001b[0;34m.\u001b[0m\u001b[0mexecute\u001b[0m\u001b[0;34m(\u001b[0m\u001b[0mdriver_command\u001b[0m\u001b[0;34m,\u001b[0m \u001b[0mparams\u001b[0m\u001b[0;34m)\u001b[0m\u001b[0;34m\u001b[0m\u001b[0;34m\u001b[0m\u001b[0m\n\u001b[1;32m    320\u001b[0m         \u001b[0;32mif\u001b[0m \u001b[0mresponse\u001b[0m\u001b[0;34m:\u001b[0m\u001b[0;34m\u001b[0m\u001b[0;34m\u001b[0m\u001b[0m\n\u001b[0;32m--> 321\u001b[0;31m             \u001b[0mself\u001b[0m\u001b[0;34m.\u001b[0m\u001b[0merror_handler\u001b[0m\u001b[0;34m.\u001b[0m\u001b[0mcheck_response\u001b[0m\u001b[0;34m(\u001b[0m\u001b[0mresponse\u001b[0m\u001b[0;34m)\u001b[0m\u001b[0;34m\u001b[0m\u001b[0;34m\u001b[0m\u001b[0m\n\u001b[0m\u001b[1;32m    322\u001b[0m             response['value'] = self._unwrap_value(\n\u001b[1;32m    323\u001b[0m                 response.get('value', None))\n",
      "\u001b[0;32m~/miniconda/envs/AiCore/lib/python3.9/site-packages/selenium/webdriver/remote/errorhandler.py\u001b[0m in \u001b[0;36mcheck_response\u001b[0;34m(self, response)\u001b[0m\n\u001b[1;32m    240\u001b[0m                 \u001b[0malert_text\u001b[0m \u001b[0;34m=\u001b[0m \u001b[0mvalue\u001b[0m\u001b[0;34m[\u001b[0m\u001b[0;34m'alert'\u001b[0m\u001b[0;34m]\u001b[0m\u001b[0;34m.\u001b[0m\u001b[0mget\u001b[0m\u001b[0;34m(\u001b[0m\u001b[0;34m'text'\u001b[0m\u001b[0;34m)\u001b[0m\u001b[0;34m\u001b[0m\u001b[0;34m\u001b[0m\u001b[0m\n\u001b[1;32m    241\u001b[0m             \u001b[0;32mraise\u001b[0m \u001b[0mexception_class\u001b[0m\u001b[0;34m(\u001b[0m\u001b[0mmessage\u001b[0m\u001b[0;34m,\u001b[0m \u001b[0mscreen\u001b[0m\u001b[0;34m,\u001b[0m \u001b[0mstacktrace\u001b[0m\u001b[0;34m,\u001b[0m \u001b[0malert_text\u001b[0m\u001b[0;34m)\u001b[0m\u001b[0;34m\u001b[0m\u001b[0;34m\u001b[0m\u001b[0m\n\u001b[0;32m--> 242\u001b[0;31m         \u001b[0;32mraise\u001b[0m \u001b[0mexception_class\u001b[0m\u001b[0;34m(\u001b[0m\u001b[0mmessage\u001b[0m\u001b[0;34m,\u001b[0m \u001b[0mscreen\u001b[0m\u001b[0;34m,\u001b[0m \u001b[0mstacktrace\u001b[0m\u001b[0;34m)\u001b[0m\u001b[0;34m\u001b[0m\u001b[0;34m\u001b[0m\u001b[0m\n\u001b[0m\u001b[1;32m    243\u001b[0m \u001b[0;34m\u001b[0m\u001b[0m\n\u001b[1;32m    244\u001b[0m     \u001b[0;32mdef\u001b[0m \u001b[0m_value_or_default\u001b[0m\u001b[0;34m(\u001b[0m\u001b[0mself\u001b[0m\u001b[0;34m,\u001b[0m \u001b[0mobj\u001b[0m\u001b[0;34m,\u001b[0m \u001b[0mkey\u001b[0m\u001b[0;34m,\u001b[0m \u001b[0mdefault\u001b[0m\u001b[0;34m)\u001b[0m\u001b[0;34m:\u001b[0m\u001b[0;34m\u001b[0m\u001b[0;34m\u001b[0m\u001b[0m\n",
      "\u001b[0;31mNoSuchWindowException\u001b[0m: Message: no such window: window was already closed\n  (Session info: chrome=92.0.4515.131)\n"
     ]
    }
   ],
   "source": [
    "import time\n",
    "\n",
    "driver = webdriver.Chrome()\n",
    "URL = \"https://www.zoopla.co.uk/new-homes/property/london/?q=London&results_sort=newest_listings&search_source=new-homes&page_size=25&pn=1&view_type=list\"\n",
    "driver.get(URL)\n",
    "accept_cookies = driver.find_elements_by_xpath('//button[@data-responsibility=\"acceptAll\"]')\n",
    "for button in accept_cookies:\n",
    "    if button.text == \"Accept all cookies\":\n",
    "        relevant_button = button\n",
    "relevant_button.click()\n",
    "\n",
    "prop_container = driver.find_element_by_xpath('//div[@class=\"css-kdnpqc-ListingsContainer earci3d2\"]')\n",
    "properties = prop_container.find_elements_by_xpath('./div')\n",
    "\n",
    "num_props = len(properties)\n",
    "for i in range(num_props):\n",
    "    prop_container = driver.find_element_by_xpath('//div[@class=\"css-kdnpqc-ListingsContainer earci3d2\"]')\n",
    "    house = prop_container.find_elements_by_xpath('./div')[i]\n",
    "    house.click()\n",
    "    time.sleep(5)\n",
    "    driver.back()\n",
    "    time.sleep(1)"
   ]
  },
  {
   "cell_type": "code",
   "execution_count": null,
   "metadata": {},
   "outputs": [],
   "source": []
=======
   ],
   "outputs": [],
   "metadata": {}
  },
  {
   "cell_type": "markdown",
   "source": [
    "In the challenge above, you clicked on every link. Another way to achieve this is obtaining a list with all the links of the properties, and once you obtained it, you can iterate through that list, and visit each link individually using the `.get()` method.\n",
    "\n",
    "Give it a try, and if you get stuck, you can check the `zoopla_scraper.py` file in examples."
   ],
   "metadata": {}
  },
  {
   "cell_type": "markdown",
   "source": [],
   "metadata": {}
>>>>>>> 008b1d266bc4dc23ee8ffc5ff2f7995e2c24d70c
  }
 ],
 "metadata": {
  "interpreter": {
   "hash": "569d6b7e9215e11aba41c6454007e5c1b78bad7df09dab765d8cf00362c40f03"
  },
  "kernelspec": {
<<<<<<< HEAD
   "display_name": "Python 3 (ipykernel)",
   "language": "python",
   "name": "python3"
=======
   "name": "python3",
   "display_name": "Python 3.9.1 64-bit ('base': conda)"
>>>>>>> 008b1d266bc4dc23ee8ffc5ff2f7995e2c24d70c
  },
  "language_info": {
   "codemirror_mode": {
    "name": "ipython",
    "version": 3
   },
   "file_extension": ".py",
   "mimetype": "text/x-python",
   "name": "python",
<<<<<<< HEAD
   "nbconvert_exporter": "python",
   "pygments_lexer": "ipython3",
   "version": "3.9.6"
=======
   "version": "3.9.1",
   "mimetype": "text/x-python",
   "codemirror_mode": {
    "name": "ipython",
    "version": 3
   },
   "pygments_lexer": "ipython3",
   "nbconvert_exporter": "python",
   "file_extension": ".py"
>>>>>>> 008b1d266bc4dc23ee8ffc5ff2f7995e2c24d70c
  }
 },
 "nbformat": 4,
 "nbformat_minor": 4
}
